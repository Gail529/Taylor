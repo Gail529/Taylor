{
  "nbformat": 4,
  "nbformat_minor": 0,
  "metadata": {
    "colab": {
      "name": "Cosine_Similarity .ipynb",
      "provenance": [],
      "collapsed_sections": [],
      "authorship_tag": "ABX9TyOUCIa1K57myoR+0+8WYpyd",
      "include_colab_link": true
    },
    "kernelspec": {
      "name": "python3",
      "display_name": "Python 3"
    }
  },
  "cells": [
    {
      "cell_type": "markdown",
      "metadata": {
        "id": "view-in-github",
        "colab_type": "text"
      },
      "source": [
        "<a href=\"https://colab.research.google.com/github/Gail529/Taylor/blob/main/Cosine_Similarity_.ipynb\" target=\"_parent\"><img src=\"https://colab.research.google.com/assets/colab-badge.svg\" alt=\"Open In Colab\"/></a>"
      ]
    },
    {
      "cell_type": "code",
      "metadata": {
        "id": "_06hONu6i_p0"
      },
      "source": [
        "import pandas as pd\n",
        "import numpy as np\n",
        "from sklearn.metrics.pairwise import cosine_similarity"
      ],
      "execution_count": 1,
      "outputs": []
    },
    {
      "cell_type": "code",
      "metadata": {
        "id": "lsL0x4jw3o-A",
        "colab": {
          "base_uri": "https://localhost:8080/",
          "height": 251
        },
        "outputId": "96c1e246-982e-42ee-b346-1f316c273064"
      },
      "source": [
        "song_df=pd.read_csv('/content/song_df.csv')\r\n",
        "song_df.head()"
      ],
      "execution_count": 8,
      "outputs": [
        {
          "output_type": "execute_result",
          "data": {
            "text/html": [
              "<div>\n",
              "<style scoped>\n",
              "    .dataframe tbody tr th:only-of-type {\n",
              "        vertical-align: middle;\n",
              "    }\n",
              "\n",
              "    .dataframe tbody tr th {\n",
              "        vertical-align: top;\n",
              "    }\n",
              "\n",
              "    .dataframe thead th {\n",
              "        text-align: right;\n",
              "    }\n",
              "</style>\n",
              "<table border=\"1\" class=\"dataframe\">\n",
              "  <thead>\n",
              "    <tr style=\"text-align: right;\">\n",
              "      <th></th>\n",
              "      <th>Unnamed: 0</th>\n",
              "      <th>song</th>\n",
              "      <th>Positive</th>\n",
              "      <th>Negative</th>\n",
              "      <th>Anger</th>\n",
              "      <th>Anticipation</th>\n",
              "      <th>Disgust</th>\n",
              "      <th>Fear</th>\n",
              "      <th>Joy</th>\n",
              "      <th>Sadness</th>\n",
              "      <th>Surprise</th>\n",
              "      <th>Trust</th>\n",
              "      <th>acousticness</th>\n",
              "      <th>danceability</th>\n",
              "      <th>energy</th>\n",
              "      <th>liveness</th>\n",
              "      <th>loudness</th>\n",
              "      <th>speechiness</th>\n",
              "      <th>tempo</th>\n",
              "      <th>valence</th>\n",
              "      <th>popularity</th>\n",
              "    </tr>\n",
              "  </thead>\n",
              "  <tbody>\n",
              "    <tr>\n",
              "      <th>0</th>\n",
              "      <td>0</td>\n",
              "      <td>Red</td>\n",
              "      <td>14</td>\n",
              "      <td>12</td>\n",
              "      <td>6</td>\n",
              "      <td>2</td>\n",
              "      <td>2</td>\n",
              "      <td>7</td>\n",
              "      <td>11</td>\n",
              "      <td>17</td>\n",
              "      <td>2</td>\n",
              "      <td>10</td>\n",
              "      <td>0.0779</td>\n",
              "      <td>0.605</td>\n",
              "      <td>0.899</td>\n",
              "      <td>0.0911</td>\n",
              "      <td>-4.273</td>\n",
              "      <td>0.0423</td>\n",
              "      <td>124.985</td>\n",
              "      <td>0.647</td>\n",
              "      <td>46</td>\n",
              "    </tr>\n",
              "    <tr>\n",
              "      <th>1</th>\n",
              "      <td>1</td>\n",
              "      <td>Treacherous</td>\n",
              "      <td>11</td>\n",
              "      <td>10</td>\n",
              "      <td>10</td>\n",
              "      <td>5</td>\n",
              "      <td>7</td>\n",
              "      <td>10</td>\n",
              "      <td>4</td>\n",
              "      <td>0</td>\n",
              "      <td>2</td>\n",
              "      <td>4</td>\n",
              "      <td>0.1010</td>\n",
              "      <td>0.704</td>\n",
              "      <td>0.621</td>\n",
              "      <td>0.1400</td>\n",
              "      <td>-8.086</td>\n",
              "      <td>0.0334</td>\n",
              "      <td>109.995</td>\n",
              "      <td>0.395</td>\n",
              "      <td>39</td>\n",
              "    </tr>\n",
              "    <tr>\n",
              "      <th>2</th>\n",
              "      <td>2</td>\n",
              "      <td>All Too Well</td>\n",
              "      <td>8</td>\n",
              "      <td>15</td>\n",
              "      <td>8</td>\n",
              "      <td>7</td>\n",
              "      <td>4</td>\n",
              "      <td>3</td>\n",
              "      <td>6</td>\n",
              "      <td>8</td>\n",
              "      <td>3</td>\n",
              "      <td>8</td>\n",
              "      <td>0.0448</td>\n",
              "      <td>0.602</td>\n",
              "      <td>0.605</td>\n",
              "      <td>0.1280</td>\n",
              "      <td>-7.803</td>\n",
              "      <td>0.0244</td>\n",
              "      <td>93.061</td>\n",
              "      <td>0.316</td>\n",
              "      <td>48</td>\n",
              "    </tr>\n",
              "    <tr>\n",
              "      <th>3</th>\n",
              "      <td>3</td>\n",
              "      <td>Begin Again</td>\n",
              "      <td>9</td>\n",
              "      <td>3</td>\n",
              "      <td>0</td>\n",
              "      <td>7</td>\n",
              "      <td>0</td>\n",
              "      <td>1</td>\n",
              "      <td>6</td>\n",
              "      <td>1</td>\n",
              "      <td>3</td>\n",
              "      <td>0</td>\n",
              "      <td>0.1990</td>\n",
              "      <td>0.530</td>\n",
              "      <td>0.526</td>\n",
              "      <td>0.1400</td>\n",
              "      <td>-8.349</td>\n",
              "      <td>0.0263</td>\n",
              "      <td>79.025</td>\n",
              "      <td>0.323</td>\n",
              "      <td>40</td>\n",
              "    </tr>\n",
              "    <tr>\n",
              "      <th>4</th>\n",
              "      <td>4</td>\n",
              "      <td>Welcome To New York</td>\n",
              "      <td>8</td>\n",
              "      <td>9</td>\n",
              "      <td>2</td>\n",
              "      <td>1</td>\n",
              "      <td>2</td>\n",
              "      <td>3</td>\n",
              "      <td>7</td>\n",
              "      <td>2</td>\n",
              "      <td>0</td>\n",
              "      <td>5</td>\n",
              "      <td>0.0380</td>\n",
              "      <td>0.793</td>\n",
              "      <td>0.634</td>\n",
              "      <td>0.3040</td>\n",
              "      <td>-4.807</td>\n",
              "      <td>0.0324</td>\n",
              "      <td>117.023</td>\n",
              "      <td>0.615</td>\n",
              "      <td>62</td>\n",
              "    </tr>\n",
              "  </tbody>\n",
              "</table>\n",
              "</div>"
            ],
            "text/plain": [
              "   Unnamed: 0                 song  Positive  ...    tempo  valence  popularity\n",
              "0           0                  Red        14  ...  124.985    0.647          46\n",
              "1           1          Treacherous        11  ...  109.995    0.395          39\n",
              "2           2         All Too Well         8  ...   93.061    0.316          48\n",
              "3           3          Begin Again         9  ...   79.025    0.323          40\n",
              "4           4  Welcome To New York         8  ...  117.023    0.615          62\n",
              "\n",
              "[5 rows x 21 columns]"
            ]
          },
          "metadata": {
            "tags": []
          },
          "execution_count": 8
        }
      ]
    },
    {
      "cell_type": "code",
      "metadata": {
        "colab": {
          "base_uri": "https://localhost:8080/"
        },
        "id": "IETQbFrcYp5Y",
        "outputId": "26c56160-e40f-4149-ffb3-f580a3e0196f"
      },
      "source": [
        "cols=song_df.columns\r\n",
        "print(cols)"
      ],
      "execution_count": 10,
      "outputs": [
        {
          "output_type": "stream",
          "text": [
            "Index(['Unnamed: 0', 'song', 'Positive', 'Negative', 'Anger', 'Anticipation',\n",
            "       'Disgust', 'Fear', 'Joy', 'Sadness', 'Surprise', 'Trust',\n",
            "       'acousticness', 'danceability', 'energy', 'liveness', 'loudness',\n",
            "       'speechiness', 'tempo', 'valence', 'popularity'],\n",
            "      dtype='object')\n"
          ],
          "name": "stdout"
        }
      ]
    },
    {
      "cell_type": "code",
      "metadata": {
        "id": "0w_Nhbo-rNm6",
        "colab": {
          "base_uri": "https://localhost:8080/"
        },
        "outputId": "ecbfd04a-e8e1-4823-9682-de7c267068a4"
      },
      "source": [
        "scores_df=song_df[['Positive','Negative','Anger','Anticipation','Disgust','Fear','Joy','Sadness','Surprise','Trust','acousticness','danceability','energy','liveness','loudness','speechiness','tempo','valence','popularity']]\n",
        "cosine_sim=cosine_similarity(scores_df,scores_df)\n",
        "cosine_sim.shape"
      ],
      "execution_count": 11,
      "outputs": [
        {
          "output_type": "execute_result",
          "data": {
            "text/plain": [
              "(64, 64)"
            ]
          },
          "metadata": {
            "tags": []
          },
          "execution_count": 11
        }
      ]
    },
    {
      "cell_type": "code",
      "metadata": {
        "id": "rPQBB-OfWtzR",
        "colab": {
          "base_uri": "https://localhost:8080/"
        },
        "outputId": "7408b5bf-6062-40bc-dd22-ed3a3b9c689c"
      },
      "source": [
        "cosine_sim[3]"
      ],
      "execution_count": 12,
      "outputs": [
        {
          "output_type": "execute_result",
          "data": {
            "text/plain": [
              "array([0.97692309, 0.98066861, 0.98527002, 1.        , 0.9926738 ,\n",
              "       0.83927829, 0.98259235, 0.98513841, 0.9551882 , 0.98526352,\n",
              "       0.93544386, 0.99494475, 0.98382692, 0.77391665, 0.95208236,\n",
              "       0.99467535, 0.89692423, 0.89703985, 0.97237656, 0.98731281,\n",
              "       0.92405355, 0.92430771, 0.98164988, 0.99321934, 0.98725036,\n",
              "       0.99435932, 0.95093708, 0.97155401, 0.96856712, 0.985093  ,\n",
              "       0.97276819, 0.9404075 , 0.94906149, 0.96942481, 0.96898948,\n",
              "       0.96574774, 0.87972966, 0.92505101, 0.98565174, 0.94991461,\n",
              "       0.97109217, 0.98688279, 0.99386078, 0.99536586, 0.98730446,\n",
              "       0.98281172, 0.97379292, 0.97169022, 0.96759385, 0.97502172,\n",
              "       0.97502172, 0.98021704, 0.95439454, 0.9877637 , 0.93730188,\n",
              "       0.98637906, 0.98287056, 0.99300156, 0.97360761, 0.99471703,\n",
              "       0.99490457, 0.98708214, 0.9089844 , 0.91839025])"
            ]
          },
          "metadata": {
            "tags": []
          },
          "execution_count": 12
        }
      ]
    },
    {
      "cell_type": "code",
      "metadata": {
        "id": "S3tZNa5-W9cL"
      },
      "source": [
        "indices=pd.Series(song_df.index, song_df['song']).drop_duplicates()"
      ],
      "execution_count": 13,
      "outputs": []
    },
    {
      "cell_type": "code",
      "metadata": {
        "id": "uoSriiMSXnGB",
        "colab": {
          "base_uri": "https://localhost:8080/"
        },
        "outputId": "698a71da-94f3-49fa-91ee-f89955b88bf7"
      },
      "source": [
        "indices[:5]"
      ],
      "execution_count": 14,
      "outputs": [
        {
          "output_type": "execute_result",
          "data": {
            "text/plain": [
              "song\n",
              "Red                    0\n",
              "Treacherous            1\n",
              "All Too Well           2\n",
              "Begin Again            3\n",
              "Welcome To New York    4\n",
              "dtype: int64"
            ]
          },
          "metadata": {
            "tags": []
          },
          "execution_count": 14
        }
      ]
    },
    {
      "cell_type": "code",
      "metadata": {
        "id": "LZCGNjXtX9V3"
      },
      "source": [
        "def get_recommendations(title,cosine_sim=cosine_sim):\n",
        "    index=indices[title]\n",
        "    sim_scores = list(enumerate(cosine_sim[index]))\n",
        "    sim_scores = sorted(sim_scores, key=lambda x: x[1], reverse=True)\n",
        "    sim_scores = sim_scores[1:11]\n",
        "    song_indices = [i[0] for i in sim_scores]\n",
        "    return song_df['song'].iloc[song_indices]\n"
      ],
      "execution_count": 15,
      "outputs": []
    },
    {
      "cell_type": "code",
      "metadata": {
        "id": "NJNif-iwaZGx",
        "colab": {
          "base_uri": "https://localhost:8080/"
        },
        "outputId": "1d75c9aa-1806-4b2b-dc4b-0d5e88416e06"
      },
      "source": [
        "get_recommendations('Red')"
      ],
      "execution_count": 17,
      "outputs": [
        {
          "output_type": "execute_result",
          "data": {
            "text/plain": [
              "38                                 Daylight\n",
              "24    This Is Why We Can't Have Nice Things\n",
              "22                              Getaway Car\n",
              "9                          I Wish You Would\n",
              "27                             Cruel Summer\n",
              "25                    Call It What You Want\n",
              "42                       champagne problems\n",
              "57                                    peace\n",
              "1                               Treacherous\n",
              "2                              All Too Well\n",
              "Name: song, dtype: object"
            ]
          },
          "metadata": {
            "tags": []
          },
          "execution_count": 17
        }
      ]
    },
    {
      "cell_type": "code",
      "metadata": {
        "id": "8MBu0U8obEN4",
        "colab": {
          "base_uri": "https://localhost:8080/"
        },
        "outputId": "fb7f9827-7df2-4ade-c6f0-4dc65e6dc6af"
      },
      "source": [
        "get_recommendations('cardigan')"
      ],
      "execution_count": 18,
      "outputs": [
        {
          "output_type": "execute_result",
          "data": {
            "text/plain": [
              "44                     cowboy like me\n",
              "55                         mirrorball\n",
              "59                              the 1\n",
              "33                    Cornelia Street\n",
              "60    the last great american dynasty\n",
              "40                              betty\n",
              "23                              Dress\n",
              "58                              seven\n",
              "34           Death By A Thousand Cuts\n",
              "48                          happiness\n",
              "Name: song, dtype: object"
            ]
          },
          "metadata": {
            "tags": []
          },
          "execution_count": 18
        }
      ]
    },
    {
      "cell_type": "code",
      "metadata": {
        "id": "jrQSe2lebRRm",
        "colab": {
          "base_uri": "https://localhost:8080/"
        },
        "outputId": "8af536f9-9298-43d2-ae69-42132982dd0f"
      },
      "source": [
        "get_recommendations('Afterglow')"
      ],
      "execution_count": 24,
      "outputs": [
        {
          "output_type": "execute_result",
          "data": {
            "text/plain": [
              "54                                 mad woman\n",
              "31    Miss Americana & The Heartbreak Prince\n",
              "20                             So It Goes...\n",
              "16                                  End Game\n",
              "49                                      hoax\n",
              "50                                      hoax\n",
              "8                               Shake It Off\n",
              "26                 I Forgot That You Existed\n",
              "29                                The Archer\n",
              "28                                   The Man\n",
              "Name: song, dtype: object"
            ]
          },
          "metadata": {
            "tags": []
          },
          "execution_count": 24
        }
      ]
    }
  ]
}