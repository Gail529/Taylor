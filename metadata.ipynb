{
  "nbformat": 4,
  "nbformat_minor": 0,
  "metadata": {
    "colab": {
      "name": "metadata.ipynb",
      "provenance": [],
      "authorship_tag": "ABX9TyO/EOHThruJdylmYyMry7z0",
      "include_colab_link": true
    },
    "kernelspec": {
      "name": "python3",
      "display_name": "Python 3"
    }
  },
  "cells": [
    {
      "cell_type": "markdown",
      "metadata": {
        "id": "view-in-github",
        "colab_type": "text"
      },
      "source": [
        "<a href=\"https://colab.research.google.com/github/Gail529/Taylor/blob/main/metadata.ipynb\" target=\"_parent\"><img src=\"https://colab.research.google.com/assets/colab-badge.svg\" alt=\"Open In Colab\"/></a>"
      ]
    },
    {
      "cell_type": "code",
      "metadata": {
        "colab": {
          "base_uri": "https://localhost:8080/"
        },
        "id": "ebmwayvbibzb",
        "outputId": "f3d24286-655f-4cb2-dfff-564900727b93"
      },
      "source": [
        "!pip install spotipy"
      ],
      "execution_count": null,
      "outputs": [
        {
          "output_type": "stream",
          "text": [
            "Collecting spotipy\n",
            "  Downloading https://files.pythonhosted.org/packages/7a/cd/e7d9a35216ea5bfb9234785f3d8fa7c96d0e33999c2cb72394128f6b4cce/spotipy-2.16.1-py3-none-any.whl\n",
            "Requirement already satisfied: six>=1.10.0 in /usr/local/lib/python3.6/dist-packages (from spotipy) (1.15.0)\n",
            "Requirement already satisfied: requests>=2.20.0 in /usr/local/lib/python3.6/dist-packages (from spotipy) (2.23.0)\n",
            "Requirement already satisfied: certifi>=2017.4.17 in /usr/local/lib/python3.6/dist-packages (from requests>=2.20.0->spotipy) (2020.12.5)\n",
            "Requirement already satisfied: chardet<4,>=3.0.2 in /usr/local/lib/python3.6/dist-packages (from requests>=2.20.0->spotipy) (3.0.4)\n",
            "Requirement already satisfied: idna<3,>=2.5 in /usr/local/lib/python3.6/dist-packages (from requests>=2.20.0->spotipy) (2.10)\n",
            "Requirement already satisfied: urllib3!=1.25.0,!=1.25.1,<1.26,>=1.21.1 in /usr/local/lib/python3.6/dist-packages (from requests>=2.20.0->spotipy) (1.24.3)\n",
            "Installing collected packages: spotipy\n",
            "Successfully installed spotipy-2.16.1\n"
          ],
          "name": "stdout"
        }
      ]
    },
    {
      "cell_type": "code",
      "metadata": {
        "id": "YnNXxYax-9A9"
      },
      "source": [
        "import spotipy\n",
        "from spotipy.oauth2 import SpotifyClientCredentials #To access authorised Spotify data\n"
      ],
      "execution_count": null,
      "outputs": []
    },
    {
      "cell_type": "code",
      "metadata": {
        "id": "SkmWcSJ9-8xX"
      },
      "source": [
        "client_id = ''\n",
        "client_secret = ''\n",
        "client_credentials_manager = SpotifyClientCredentials(client_id=client_id, client_secret=client_secret)\n",
        "sp = spotipy.Spotify(client_credentials_manager=client_credentials_manager) #spotify object to access API\n"
      ],
      "execution_count": null,
      "outputs": []
    },
    {
      "cell_type": "markdown",
      "metadata": {
        "id": "Yr698I2EsAkL"
      },
      "source": [
        "# Searching for Taylor's artist id"
      ]
    },
    {
      "cell_type": "code",
      "metadata": {
        "id": "bcSgkHh_-8f9",
        "colab": {
          "base_uri": "https://localhost:8080/"
        },
        "outputId": "aef5a203-e359-43c9-9f0b-3ae049e0b654"
      },
      "source": [
        "name = \"{Taylor Swift}\" #chosen artist\n",
        "result = sp.search(name) #search query\n",
        "result['tracks']['items'][0]['artists']\n"
      ],
      "execution_count": null,
      "outputs": [
        {
          "output_type": "execute_result",
          "data": {
            "text/plain": [
              "[{'external_urls': {'spotify': 'https://open.spotify.com/artist/06HL4z0CvFAxyc27GXpf02'},\n",
              "  'href': 'https://api.spotify.com/v1/artists/06HL4z0CvFAxyc27GXpf02',\n",
              "  'id': '06HL4z0CvFAxyc27GXpf02',\n",
              "  'name': 'Taylor Swift',\n",
              "  'type': 'artist',\n",
              "  'uri': 'spotify:artist:06HL4z0CvFAxyc27GXpf02'}]"
            ]
          },
          "metadata": {
            "tags": []
          },
          "execution_count": 8
        }
      ]
    },
    {
      "cell_type": "markdown",
      "metadata": {
        "id": "hSYZEPWWsPD4"
      },
      "source": [
        "# Compiling a list of all her albums and their URIS"
      ]
    },
    {
      "cell_type": "code",
      "metadata": {
        "id": "uv_4uWtnnxl8",
        "colab": {
          "base_uri": "https://localhost:8080/"
        },
        "outputId": "0d623363-5ead-42a2-ba01-3e41d353b196"
      },
      "source": [
        "#Extract Artist's uri\n",
        "artist_uri = result['tracks']['items'][0]['artists'][0]['uri']\n",
        "#Pull all of the artist's albums\n",
        "sp_albums = sp.artist_albums(artist_uri, album_type='album')\n",
        "#Store artist's albums' names' and uris in separate lists\n",
        "album_names = []\n",
        "album_uris = []\n",
        "for i in range(len(sp_albums['items'])):\n",
        "    album_names.append(sp_albums['items'][i]['name'])\n",
        "    album_uris.append(sp_albums['items'][i]['uri'])\n",
        "    \n",
        "album_names\n",
        "album_uris\n",
        "#Keep names and uris in same order to keep track of duplicate albums"
      ],
      "execution_count": null,
      "outputs": [
        {
          "output_type": "execute_result",
          "data": {
            "text/plain": [
              "['spotify:album:40zKHK0aGM4PITqPy5vfQh',\n",
              " 'spotify:album:2Xoteh7uEpea4TohMxjtaq',\n",
              " 'spotify:album:5jmVg7rwRcgd6ARPAeYNSm',\n",
              " 'spotify:album:0PZ7lAru5FDFHuirTkWe9Z',\n",
              " 'spotify:album:3VaaZ7OIbGLi60NVsnueoo',\n",
              " 'spotify:album:1pzvBxYgT6OVwJLtHkrdQK',\n",
              " 'spotify:album:7v7pe5vZQPWB5zW0JrKRiw',\n",
              " 'spotify:album:2fenSS68JI1h4Fo296JfGr',\n",
              " 'spotify:album:0xS0iOtxQRoJvfcFcJA5Gv',\n",
              " 'spotify:album:1NAmidJlEaVgA3MpcPFYGq',\n",
              " 'spotify:album:1MHuZZrGT36cXLxAQ5cLP3',\n",
              " 'spotify:album:6DEjYFkNZh67HP7R9PSZvv',\n",
              " 'spotify:album:1Hrs3jLGexOvBoaPMoOQYJ',\n",
              " 'spotify:album:1MPAXuTVL2Ej5x0JHiSPq8',\n",
              " 'spotify:album:0bEySlRAkuPxV9KVWhXXBr',\n",
              " 'spotify:album:4uUAUqIfSomFTbbjGp3TYp',\n",
              " 'spotify:album:2QJmrSgbdM35R67eoGQo4j',\n",
              " 'spotify:album:6EsTJnpahwW6xX20zvqQgZ',\n",
              " 'spotify:album:0L3oaZUj3loxosjvugCLGG',\n",
              " 'spotify:album:7N3xz2HFNVH5BEkm8ZVmoR']"
            ]
          },
          "metadata": {
            "tags": []
          },
          "execution_count": 9
        }
      ]
    },
    {
      "cell_type": "code",
      "metadata": {
        "id": "-P2sIoQjAJCV"
      },
      "source": [
        "def albumSongs(uri):\n",
        "    album = uri #assign album uri to a_name\n",
        "    spotify_albums[album] = {} #Creates dictionary for that specific album\n",
        "    #Create keys-values of empty lists inside nested dictionary for album\n",
        "    spotify_albums[album]['album'] = [] #create empty list\n",
        "    spotify_albums[album]['track_number'] = []\n",
        "    spotify_albums[album]['id'] = []\n",
        "    spotify_albums[album]['name'] = []\n",
        "    spotify_albums[album]['uri'] = []\n",
        "    tracks = sp.album_tracks(album) #pull data on album tracks\n",
        "    for n in range(len(tracks['items'])): #for each song track\n",
        "            spotify_albums[album]['album'].append(album_names[album_count]) #append album name tracked via album_count\n",
        "            spotify_albums[album]['track_number'].append(tracks['items'][n]['track_number'])\n",
        "            spotify_albums[album]['id'].append(tracks['items'][n]['id'])\n",
        "            spotify_albums[album]['name'].append(tracks['items'][n]['name'])\n",
        "            spotify_albums[album]['uri'].append(tracks['items'][n]['uri'])"
      ],
      "execution_count": null,
      "outputs": []
    },
    {
      "cell_type": "code",
      "metadata": {
        "colab": {
          "base_uri": "https://localhost:8080/"
        },
        "id": "xLsvuYzmmMny",
        "outputId": "f59bffe7-3208-4086-e4be-521e3f589f71"
      },
      "source": [
        "spotify_albums = {}\r\n",
        "album_count = 0\r\n",
        "for i in album_uris: #each album\r\n",
        "    albumSongs(i)\r\n",
        "    print(\"Album \" + str(album_names[album_count]) + \" songs has been added to spotify_albums dictionary\")\r\n",
        "    album_count+=1 #Updates album count once all tracks have been added"
      ],
      "execution_count": null,
      "outputs": [
        {
          "output_type": "stream",
          "text": [
            "Album evermore songs has been added to spotify_albums dictionary\n",
            "Album evermore songs has been added to spotify_albums dictionary\n",
            "Album evermore songs has been added to spotify_albums dictionary\n",
            "Album folklore: the long pond studio sessions (from the Disney+ special) [deluxe edition] songs has been added to spotify_albums dictionary\n",
            "Album folklore: the long pond studio sessions (from the Disney+ special) [deluxe edition] songs has been added to spotify_albums dictionary\n",
            "Album folklore (deluxe version) songs has been added to spotify_albums dictionary\n",
            "Album folklore (deluxe version) songs has been added to spotify_albums dictionary\n",
            "Album folklore songs has been added to spotify_albums dictionary\n",
            "Album folklore songs has been added to spotify_albums dictionary\n",
            "Album Lover songs has been added to spotify_albums dictionary\n",
            "Album Taylor Swift Karaoke: reputation songs has been added to spotify_albums dictionary\n",
            "Album reputation songs has been added to spotify_albums dictionary\n",
            "Album reputation (Big Machine Radio Release Special) songs has been added to spotify_albums dictionary\n",
            "Album reputation Stadium Tour Surprise Song Playlist songs has been added to spotify_albums dictionary\n",
            "Album Taylor Swift Karaoke: 1989 (Deluxe) songs has been added to spotify_albums dictionary\n",
            "Album 1989 songs has been added to spotify_albums dictionary\n",
            "Album 1989 songs has been added to spotify_albums dictionary\n",
            "Album 1989 (Big Machine Radio Release Special) songs has been added to spotify_albums dictionary\n",
            "Album Taylor Swift Karaoke: 1989 (Deluxe Edition) songs has been added to spotify_albums dictionary\n",
            "Album Taylor Swift Karaoke: 1989 (Deluxe) songs has been added to spotify_albums dictionary\n"
          ],
          "name": "stdout"
        }
      ]
    },
    {
      "cell_type": "code",
      "metadata": {
        "colab": {
          "base_uri": "https://localhost:8080/"
        },
        "id": "TNKEoN6PqA_4",
        "outputId": "f8cbf3c9-9a84-4599-aaa4-dde0b9b9526c"
      },
      "source": [
        "album_count"
      ],
      "execution_count": null,
      "outputs": [
        {
          "output_type": "execute_result",
          "data": {
            "text/plain": [
              "20"
            ]
          },
          "metadata": {
            "tags": []
          },
          "execution_count": 14
        }
      ]
    },
    {
      "cell_type": "code",
      "metadata": {
        "id": "GjDr8yWJmX95"
      },
      "source": [
        "def audio_features(album):\r\n",
        "    #Add new key-values to store audio features\r\n",
        "    spotify_albums[album]['acousticness'] = []\r\n",
        "    spotify_albums[album]['danceability'] = []\r\n",
        "    spotify_albums[album]['energy'] = []\r\n",
        "    spotify_albums[album]['instrumentalness'] = []\r\n",
        "    spotify_albums[album]['liveness'] = []\r\n",
        "    spotify_albums[album]['loudness'] = []\r\n",
        "    spotify_albums[album]['speechiness'] = []\r\n",
        "    spotify_albums[album]['tempo'] = []\r\n",
        "    spotify_albums[album]['valence'] = []\r\n",
        "    spotify_albums[album]['popularity'] = []\r\n",
        "    #create a track counter\r\n",
        "    track_count = 0\r\n",
        "    for track in spotify_albums[album]['uri']:\r\n",
        "        #pull audio features per track\r\n",
        "        features = sp.audio_features(track)\r\n",
        "        \r\n",
        "        #Append to relevant key-value\r\n",
        "        spotify_albums[album]['acousticness'].append(features[0]['acousticness'])\r\n",
        "        spotify_albums[album]['danceability'].append(features[0]['danceability'])\r\n",
        "        spotify_albums[album]['energy'].append(features[0]['energy'])\r\n",
        "        spotify_albums[album]['instrumentalness'].append(features[0]['instrumentalness'])\r\n",
        "        spotify_albums[album]['liveness'].append(features[0]['liveness'])\r\n",
        "        spotify_albums[album]['loudness'].append(features[0]['loudness'])\r\n",
        "        spotify_albums[album]['speechiness'].append(features[0]['speechiness'])\r\n",
        "        spotify_albums[album]['tempo'].append(features[0]['tempo'])\r\n",
        "        spotify_albums[album]['valence'].append(features[0]['valence'])\r\n",
        "        #popularity is stored elsewhere\r\n",
        "        pop = sp.track(track)\r\n",
        "        spotify_albums[album]['popularity'].append(pop['popularity'])\r\n",
        "        track_count+=1"
      ],
      "execution_count": null,
      "outputs": []
    },
    {
      "cell_type": "code",
      "metadata": {
        "colab": {
          "base_uri": "https://localhost:8080/"
        },
        "id": "-i1oWjivmkDh",
        "outputId": "b6aa721c-2f0d-42e9-8589-2172c15cff71"
      },
      "source": [
        "import time\r\n",
        "import numpy as np\r\n",
        "sleep_min = 2\r\n",
        "sleep_max = 5\r\n",
        "start_time = time.time()\r\n",
        "request_count = 0\r\n",
        "for i in spotify_albums:\r\n",
        "    audio_features(i)\r\n",
        "    request_count+=1\r\n",
        "    if request_count % 5 == 0:\r\n",
        "        print(str(request_count) + \" playlists completed\")\r\n",
        "        time.sleep(np.random.uniform(sleep_min, sleep_max))\r\n",
        "        print('Loop #: {}'.format(request_count))\r\n",
        "        print('Elapsed Time: {} seconds'.format(time.time() - start_time))"
      ],
      "execution_count": null,
      "outputs": [
        {
          "output_type": "stream",
          "text": [
            "5 playlists completed\n",
            "Loop #: 5\n",
            "Elapsed Time: 17.558822870254517 seconds\n",
            "10 playlists completed\n",
            "Loop #: 10\n",
            "Elapsed Time: 29.666969776153564 seconds\n",
            "15 playlists completed\n",
            "Loop #: 15\n",
            "Elapsed Time: 59.00826930999756 seconds\n",
            "20 playlists completed\n",
            "Loop #: 20\n",
            "Elapsed Time: 70.72549080848694 seconds\n"
          ],
          "name": "stdout"
        }
      ]
    },
    {
      "cell_type": "code",
      "metadata": {
        "colab": {
          "base_uri": "https://localhost:8080/"
        },
        "id": "_EMlDpXwmskb",
        "outputId": "8d729f4d-972c-48af-db26-a6bb37ca0e64"
      },
      "source": [
        "dic_df = {}\r\n",
        "dic_df['album'] = []\r\n",
        "dic_df['track_number'] = []\r\n",
        "dic_df['id'] = []\r\n",
        "dic_df['name'] = []\r\n",
        "dic_df['uri'] = []\r\n",
        "dic_df['acousticness'] = []\r\n",
        "dic_df['danceability'] = []\r\n",
        "dic_df['energy'] = []\r\n",
        "dic_df['instrumentalness'] = []\r\n",
        "dic_df['liveness'] = []\r\n",
        "dic_df['loudness'] = []\r\n",
        "dic_df['speechiness'] = []\r\n",
        "dic_df['tempo'] = []\r\n",
        "dic_df['valence'] = []\r\n",
        "dic_df['popularity'] = []\r\n",
        "for album in spotify_albums: \r\n",
        "    for feature in spotify_albums[album]:\r\n",
        "        dic_df[feature].extend(spotify_albums[album][feature])\r\n",
        "        \r\n",
        "len(dic_df['album'])"
      ],
      "execution_count": null,
      "outputs": [
        {
          "output_type": "execute_result",
          "data": {
            "text/plain": [
              "404"
            ]
          },
          "metadata": {
            "tags": []
          },
          "execution_count": 17
        }
      ]
    },
    {
      "cell_type": "code",
      "metadata": {
        "colab": {
          "base_uri": "https://localhost:8080/",
          "height": 810
        },
        "id": "UybBMwk-oIIJ",
        "outputId": "81b8e0dc-5076-427c-83bd-93ceae4841ac"
      },
      "source": [
        "import pandas as pd\r\n",
        "df = pd.DataFrame.from_dict(dic_df)\r\n",
        "df"
      ],
      "execution_count": null,
      "outputs": [
        {
          "output_type": "execute_result",
          "data": {
            "text/html": [
              "<div>\n",
              "<style scoped>\n",
              "    .dataframe tbody tr th:only-of-type {\n",
              "        vertical-align: middle;\n",
              "    }\n",
              "\n",
              "    .dataframe tbody tr th {\n",
              "        vertical-align: top;\n",
              "    }\n",
              "\n",
              "    .dataframe thead th {\n",
              "        text-align: right;\n",
              "    }\n",
              "</style>\n",
              "<table border=\"1\" class=\"dataframe\">\n",
              "  <thead>\n",
              "    <tr style=\"text-align: right;\">\n",
              "      <th></th>\n",
              "      <th>album</th>\n",
              "      <th>track_number</th>\n",
              "      <th>id</th>\n",
              "      <th>name</th>\n",
              "      <th>uri</th>\n",
              "      <th>acousticness</th>\n",
              "      <th>danceability</th>\n",
              "      <th>energy</th>\n",
              "      <th>instrumentalness</th>\n",
              "      <th>liveness</th>\n",
              "      <th>loudness</th>\n",
              "      <th>speechiness</th>\n",
              "      <th>tempo</th>\n",
              "      <th>valence</th>\n",
              "      <th>popularity</th>\n",
              "    </tr>\n",
              "  </thead>\n",
              "  <tbody>\n",
              "    <tr>\n",
              "      <th>0</th>\n",
              "      <td>evermore</td>\n",
              "      <td>1</td>\n",
              "      <td>4vWTULAbqJAgqBqK2CxSY9</td>\n",
              "      <td>willow</td>\n",
              "      <td>spotify:track:4vWTULAbqJAgqBqK2CxSY9</td>\n",
              "      <td>0.833000</td>\n",
              "      <td>0.392</td>\n",
              "      <td>0.574</td>\n",
              "      <td>0.001790</td>\n",
              "      <td>0.1450</td>\n",
              "      <td>-9.195</td>\n",
              "      <td>0.1700</td>\n",
              "      <td>81.112</td>\n",
              "      <td>0.529</td>\n",
              "      <td>60</td>\n",
              "    </tr>\n",
              "    <tr>\n",
              "      <th>1</th>\n",
              "      <td>evermore</td>\n",
              "      <td>2</td>\n",
              "      <td>31GDi81xN4cOa73EyCBRLE</td>\n",
              "      <td>champagne problems</td>\n",
              "      <td>spotify:track:31GDi81xN4cOa73EyCBRLE</td>\n",
              "      <td>0.920000</td>\n",
              "      <td>0.462</td>\n",
              "      <td>0.240</td>\n",
              "      <td>0.000000</td>\n",
              "      <td>0.1130</td>\n",
              "      <td>-12.077</td>\n",
              "      <td>0.0377</td>\n",
              "      <td>171.319</td>\n",
              "      <td>0.320</td>\n",
              "      <td>49</td>\n",
              "    </tr>\n",
              "    <tr>\n",
              "      <th>2</th>\n",
              "      <td>evermore</td>\n",
              "      <td>3</td>\n",
              "      <td>2L6HQbA4c12cd0Yw2N5JKF</td>\n",
              "      <td>gold rush</td>\n",
              "      <td>spotify:track:2L6HQbA4c12cd0Yw2N5JKF</td>\n",
              "      <td>0.830000</td>\n",
              "      <td>0.512</td>\n",
              "      <td>0.462</td>\n",
              "      <td>0.166000</td>\n",
              "      <td>0.1210</td>\n",
              "      <td>-10.491</td>\n",
              "      <td>0.0408</td>\n",
              "      <td>112.050</td>\n",
              "      <td>0.353</td>\n",
              "      <td>47</td>\n",
              "    </tr>\n",
              "    <tr>\n",
              "      <th>3</th>\n",
              "      <td>evermore</td>\n",
              "      <td>4</td>\n",
              "      <td>5CClGnE6O7a3NGUYKe3ZP4</td>\n",
              "      <td>‘tis the damn season</td>\n",
              "      <td>spotify:track:5CClGnE6O7a3NGUYKe3ZP4</td>\n",
              "      <td>0.735000</td>\n",
              "      <td>0.575</td>\n",
              "      <td>0.434</td>\n",
              "      <td>0.000066</td>\n",
              "      <td>0.1050</td>\n",
              "      <td>-8.193</td>\n",
              "      <td>0.0312</td>\n",
              "      <td>145.916</td>\n",
              "      <td>0.348</td>\n",
              "      <td>47</td>\n",
              "    </tr>\n",
              "    <tr>\n",
              "      <th>4</th>\n",
              "      <td>evermore</td>\n",
              "      <td>5</td>\n",
              "      <td>4wKsj88mt0ZRKCmOx8BRlu</td>\n",
              "      <td>tolerate it</td>\n",
              "      <td>spotify:track:4wKsj88mt0ZRKCmOx8BRlu</td>\n",
              "      <td>0.878000</td>\n",
              "      <td>0.316</td>\n",
              "      <td>0.361</td>\n",
              "      <td>0.000027</td>\n",
              "      <td>0.0797</td>\n",
              "      <td>-10.381</td>\n",
              "      <td>0.0488</td>\n",
              "      <td>74.952</td>\n",
              "      <td>0.221</td>\n",
              "      <td>46</td>\n",
              "    </tr>\n",
              "    <tr>\n",
              "      <th>...</th>\n",
              "      <td>...</td>\n",
              "      <td>...</td>\n",
              "      <td>...</td>\n",
              "      <td>...</td>\n",
              "      <td>...</td>\n",
              "      <td>...</td>\n",
              "      <td>...</td>\n",
              "      <td>...</td>\n",
              "      <td>...</td>\n",
              "      <td>...</td>\n",
              "      <td>...</td>\n",
              "      <td>...</td>\n",
              "      <td>...</td>\n",
              "      <td>...</td>\n",
              "      <td>...</td>\n",
              "    </tr>\n",
              "    <tr>\n",
              "      <th>399</th>\n",
              "      <td>Taylor Swift Karaoke: 1989 (Deluxe)</td>\n",
              "      <td>12</td>\n",
              "      <td>5OxHWe461VZHmVni4B1G1I</td>\n",
              "      <td>I Know Places - Karaoke Version</td>\n",
              "      <td>spotify:track:5OxHWe461VZHmVni4B1G1I</td>\n",
              "      <td>0.011200</td>\n",
              "      <td>0.640</td>\n",
              "      <td>0.713</td>\n",
              "      <td>0.012600</td>\n",
              "      <td>0.6400</td>\n",
              "      <td>-6.634</td>\n",
              "      <td>0.0606</td>\n",
              "      <td>80.014</td>\n",
              "      <td>0.413</td>\n",
              "      <td>0</td>\n",
              "    </tr>\n",
              "    <tr>\n",
              "      <th>400</th>\n",
              "      <td>Taylor Swift Karaoke: 1989 (Deluxe)</td>\n",
              "      <td>13</td>\n",
              "      <td>1hzXVa4F3GdbbyecXfu2AU</td>\n",
              "      <td>Clean - Karaoke Version</td>\n",
              "      <td>spotify:track:1hzXVa4F3GdbbyecXfu2AU</td>\n",
              "      <td>0.241000</td>\n",
              "      <td>0.856</td>\n",
              "      <td>0.371</td>\n",
              "      <td>0.819000</td>\n",
              "      <td>0.1110</td>\n",
              "      <td>-9.921</td>\n",
              "      <td>0.0425</td>\n",
              "      <td>103.999</td>\n",
              "      <td>0.384</td>\n",
              "      <td>0</td>\n",
              "    </tr>\n",
              "    <tr>\n",
              "      <th>401</th>\n",
              "      <td>Taylor Swift Karaoke: 1989 (Deluxe)</td>\n",
              "      <td>14</td>\n",
              "      <td>7gsVNGQUZQizowgn0RMmaP</td>\n",
              "      <td>Wonderland - Karaoke Version</td>\n",
              "      <td>spotify:track:7gsVNGQUZQizowgn0RMmaP</td>\n",
              "      <td>0.005570</td>\n",
              "      <td>0.464</td>\n",
              "      <td>0.561</td>\n",
              "      <td>0.600000</td>\n",
              "      <td>0.1080</td>\n",
              "      <td>-6.741</td>\n",
              "      <td>0.0314</td>\n",
              "      <td>184.048</td>\n",
              "      <td>0.090</td>\n",
              "      <td>0</td>\n",
              "    </tr>\n",
              "    <tr>\n",
              "      <th>402</th>\n",
              "      <td>Taylor Swift Karaoke: 1989 (Deluxe)</td>\n",
              "      <td>15</td>\n",
              "      <td>1X0E1SfnJJTzthUctRHHyO</td>\n",
              "      <td>You Are In Love - Karaoke Version</td>\n",
              "      <td>spotify:track:1X0E1SfnJJTzthUctRHHyO</td>\n",
              "      <td>0.806000</td>\n",
              "      <td>0.448</td>\n",
              "      <td>0.424</td>\n",
              "      <td>0.781000</td>\n",
              "      <td>0.0946</td>\n",
              "      <td>-12.148</td>\n",
              "      <td>0.0380</td>\n",
              "      <td>84.923</td>\n",
              "      <td>0.209</td>\n",
              "      <td>0</td>\n",
              "    </tr>\n",
              "    <tr>\n",
              "      <th>403</th>\n",
              "      <td>Taylor Swift Karaoke: 1989 (Deluxe)</td>\n",
              "      <td>16</td>\n",
              "      <td>0TCeQIwoUMEB0M5BDBZGVK</td>\n",
              "      <td>New Romantics - Karaoke Version</td>\n",
              "      <td>spotify:track:0TCeQIwoUMEB0M5BDBZGVK</td>\n",
              "      <td>0.000636</td>\n",
              "      <td>0.610</td>\n",
              "      <td>0.950</td>\n",
              "      <td>0.304000</td>\n",
              "      <td>0.2730</td>\n",
              "      <td>-4.936</td>\n",
              "      <td>0.0470</td>\n",
              "      <td>121.995</td>\n",
              "      <td>0.588</td>\n",
              "      <td>0</td>\n",
              "    </tr>\n",
              "  </tbody>\n",
              "</table>\n",
              "<p>404 rows × 15 columns</p>\n",
              "</div>"
            ],
            "text/plain": [
              "                                   album  track_number  ... valence popularity\n",
              "0                               evermore             1  ...   0.529         60\n",
              "1                               evermore             2  ...   0.320         49\n",
              "2                               evermore             3  ...   0.353         47\n",
              "3                               evermore             4  ...   0.348         47\n",
              "4                               evermore             5  ...   0.221         46\n",
              "..                                   ...           ...  ...     ...        ...\n",
              "399  Taylor Swift Karaoke: 1989 (Deluxe)            12  ...   0.413          0\n",
              "400  Taylor Swift Karaoke: 1989 (Deluxe)            13  ...   0.384          0\n",
              "401  Taylor Swift Karaoke: 1989 (Deluxe)            14  ...   0.090          0\n",
              "402  Taylor Swift Karaoke: 1989 (Deluxe)            15  ...   0.209          0\n",
              "403  Taylor Swift Karaoke: 1989 (Deluxe)            16  ...   0.588          0\n",
              "\n",
              "[404 rows x 15 columns]"
            ]
          },
          "metadata": {
            "tags": []
          },
          "execution_count": 18
        }
      ]
    },
    {
      "cell_type": "code",
      "metadata": {
        "colab": {
          "base_uri": "https://localhost:8080/"
        },
        "id": "lRd17VDyoRTM",
        "outputId": "02ec8dbe-cb13-430c-bb26-d5b725de44b0"
      },
      "source": [
        "print(len(df))\r\n",
        "final_df = df.sort_values('popularity', ascending=False).drop_duplicates('name').sort_index()\r\n",
        "print(len(final_df))"
      ],
      "execution_count": null,
      "outputs": [
        {
          "output_type": "stream",
          "text": [
            "404\n",
            "194\n"
          ],
          "name": "stdout"
        }
      ]
    },
    {
      "cell_type": "code",
      "metadata": {
        "id": "bDFyMitxoYHC"
      },
      "source": [
        "final_df.to_csv(\"Taylor_df.csv\")\r\n"
      ],
      "execution_count": null,
      "outputs": []
    },
    {
      "cell_type": "code",
      "metadata": {
        "id": "0tPpZoe-KUf6"
      },
      "source": [
        "#Extract Artist's uri\r\n",
        "artist_uri = result['tracks']['items'][0]['artists'][0]['uri']\r\n",
        "#Pull all of the artist's albums\r\n",
        "sp_albums = sp.artist_albums(artist_uri, album_type='album')\r\n",
        "#Store artist's albums' names' and uris in separate lists\r\n",
        "album_names = []\r\n",
        "album_uris = []\r\n",
        "for i in range(len(sp_albums['items'])):\r\n",
        "    album_names.append(sp_albums['items'][i]['name'])\r\n",
        "    album_uris.append(sp_albums['items'][i]['uri'])\r\n",
        "    \r\n",
        "album_names\r\n",
        "album_uris\r\n",
        "#Keep names and uris in same order to keep track of duplicate albums"
      ],
      "execution_count": null,
      "outputs": []
    },
    {
      "cell_type": "code",
      "metadata": {
        "id": "VWYpmz9Nlurx"
      },
      "source": [
        "def albumSongs(uri):\r\n",
        "    album = uri #assign album uri to a_name\r\n",
        "spotify_albums[album] = {} #Creates dictionary for that specific album\r\n",
        "#Create keys-values of empty lists inside nested dictionary for album\r\n",
        "    spotify_albums[album]['album'] = [] #create empty list\r\n",
        "    spotify_albums[album]['track_number'] = []\r\n",
        "    spotify_albums[album]['id'] = []\r\n",
        "    spotify_albums[album]['name'] = []\r\n",
        "    spotify_albums[album]['uri'] = []\r\n",
        "tracks = sp.album_tracks(album) #pull data on album tracks\r\n",
        "for n in range(len(tracks['items'])): #for each song track\r\n",
        "        spotify_albums[album]['album'].append(album_names[album_count]) #append album name tracked via album_count\r\n",
        "        spotify_albums[album]['track_number'].append(tracks['items'][n]['track_number'])\r\n",
        "        spotify_albums[album]['id'].append(tracks['items'][n]['id'])\r\n",
        "        spotify_albums[album]['name'].append(tracks['items'][n]['name'])\r\n",
        "        spotify_albums[album]['uri'].append(tracks['items'][n]['uri'])"
      ],
      "execution_count": null,
      "outputs": []
    },
    {
      "cell_type": "code",
      "metadata": {
        "id": "7lXZhjXXpiBH"
      },
      "source": [
        "def trackFeatures(id):\n",
        " meta=sp.track(id)\n",
        " features=sp.audio_features(id)\n",
        " \n",
        "name=meta['name'] \n",
        "album=meta['album']['name']\n",
        "length=meta['duration_ms']\n",
        "popularity=meta['popularity']\n",
        " \n",
        "acoustics=features[0][acousticness]\n",
        "danceability=features[0]['danceability'] \n",
        "energy=features[0]['energy']\n",
        "instrumentals=features[0]['instrumentals']\n",
        "liveness=features[0]['liveness']\n",
        "loudness=features [0]['loudness'] \n",
        "Speechiness=features[0]['speechiness'] \n",
        "tempo=features[0]['tempo']\n",
        "track=[]\n",
        "return track\n",
        " \n",
        "tracks=[] \n",
        "for i in range(lens(ids)):\n",
        "time.sleep(.5)\n",
        "track=trackFeatures(ids[i])\n",
        "track.append(track)\n",
        "\n",
        "df=pd(Data Frame)"
      ],
      "execution_count": null,
      "outputs": []
    },
    {
      "cell_type": "code",
      "metadata": {
        "id": "_ldYj5I7uTLL"
      },
      "source": [
        "I"
      ],
      "execution_count": null,
      "outputs": []
    }
  ]
}