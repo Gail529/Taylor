{
  "nbformat": 4,
  "nbformat_minor": 0,
  "metadata": {
    "colab": {
      "name": "emotions.ipynb",
      "provenance": [],
      "authorship_tag": "ABX9TyMhRu2D+oV5l9KZB8/V78dl",
      "include_colab_link": true
    },
    "kernelspec": {
      "name": "python3",
      "display_name": "Python 3"
    },
    "widgets": {
      "application/vnd.jupyter.widget-state+json": {
        "39ee5a26ffe8471b80bd4c4437990bad": {
          "model_module": "@jupyter-widgets/controls",
          "model_name": "HBoxModel",
          "state": {
            "_view_name": "HBoxView",
            "_dom_classes": [],
            "_model_name": "HBoxModel",
            "_view_module": "@jupyter-widgets/controls",
            "_model_module_version": "1.5.0",
            "_view_count": null,
            "_view_module_version": "1.5.0",
            "box_style": "",
            "layout": "IPY_MODEL_ba27285072894d1facbae1eb1d7606b5",
            "_model_module": "@jupyter-widgets/controls",
            "children": [
              "IPY_MODEL_1197f07010454e22a433abd49d8c9ebc",
              "IPY_MODEL_8e54c18f129645b1bf6e554f757deaee"
            ]
          }
        },
        "ba27285072894d1facbae1eb1d7606b5": {
          "model_module": "@jupyter-widgets/base",
          "model_name": "LayoutModel",
          "state": {
            "_view_name": "LayoutView",
            "grid_template_rows": null,
            "right": null,
            "justify_content": null,
            "_view_module": "@jupyter-widgets/base",
            "overflow": null,
            "_model_module_version": "1.2.0",
            "_view_count": null,
            "flex_flow": null,
            "width": null,
            "min_width": null,
            "border": null,
            "align_items": null,
            "bottom": null,
            "_model_module": "@jupyter-widgets/base",
            "top": null,
            "grid_column": null,
            "overflow_y": null,
            "overflow_x": null,
            "grid_auto_flow": null,
            "grid_area": null,
            "grid_template_columns": null,
            "flex": null,
            "_model_name": "LayoutModel",
            "justify_items": null,
            "grid_row": null,
            "max_height": null,
            "align_content": null,
            "visibility": null,
            "align_self": null,
            "height": null,
            "min_height": null,
            "padding": null,
            "grid_auto_rows": null,
            "grid_gap": null,
            "max_width": null,
            "order": null,
            "_view_module_version": "1.2.0",
            "grid_template_areas": null,
            "object_position": null,
            "object_fit": null,
            "grid_auto_columns": null,
            "margin": null,
            "display": null,
            "left": null
          }
        },
        "1197f07010454e22a433abd49d8c9ebc": {
          "model_module": "@jupyter-widgets/controls",
          "model_name": "FloatProgressModel",
          "state": {
            "_view_name": "ProgressView",
            "style": "IPY_MODEL_9b709a34bec54a8a81264a2b5d0dd8c7",
            "_dom_classes": [],
            "description": "100%",
            "_model_name": "FloatProgressModel",
            "bar_style": "success",
            "max": 95,
            "_view_module": "@jupyter-widgets/controls",
            "_model_module_version": "1.5.0",
            "value": 95,
            "_view_count": null,
            "_view_module_version": "1.5.0",
            "orientation": "horizontal",
            "min": 0,
            "description_tooltip": null,
            "_model_module": "@jupyter-widgets/controls",
            "layout": "IPY_MODEL_81ff7e3b6bc5496a86f4949886c4803b"
          }
        },
        "8e54c18f129645b1bf6e554f757deaee": {
          "model_module": "@jupyter-widgets/controls",
          "model_name": "HTMLModel",
          "state": {
            "_view_name": "HTMLView",
            "style": "IPY_MODEL_02c9159646684e60a235b2f97c5c3e90",
            "_dom_classes": [],
            "description": "",
            "_model_name": "HTMLModel",
            "placeholder": "​",
            "_view_module": "@jupyter-widgets/controls",
            "_model_module_version": "1.5.0",
            "value": " 95/95 [01:17&lt;00:00,  1.22it/s]",
            "_view_count": null,
            "_view_module_version": "1.5.0",
            "description_tooltip": null,
            "_model_module": "@jupyter-widgets/controls",
            "layout": "IPY_MODEL_841b9fd35a4f41eab6a9eecfe60beb7d"
          }
        },
        "9b709a34bec54a8a81264a2b5d0dd8c7": {
          "model_module": "@jupyter-widgets/controls",
          "model_name": "ProgressStyleModel",
          "state": {
            "_view_name": "StyleView",
            "_model_name": "ProgressStyleModel",
            "description_width": "initial",
            "_view_module": "@jupyter-widgets/base",
            "_model_module_version": "1.5.0",
            "_view_count": null,
            "_view_module_version": "1.2.0",
            "bar_color": null,
            "_model_module": "@jupyter-widgets/controls"
          }
        },
        "81ff7e3b6bc5496a86f4949886c4803b": {
          "model_module": "@jupyter-widgets/base",
          "model_name": "LayoutModel",
          "state": {
            "_view_name": "LayoutView",
            "grid_template_rows": null,
            "right": null,
            "justify_content": null,
            "_view_module": "@jupyter-widgets/base",
            "overflow": null,
            "_model_module_version": "1.2.0",
            "_view_count": null,
            "flex_flow": null,
            "width": null,
            "min_width": null,
            "border": null,
            "align_items": null,
            "bottom": null,
            "_model_module": "@jupyter-widgets/base",
            "top": null,
            "grid_column": null,
            "overflow_y": null,
            "overflow_x": null,
            "grid_auto_flow": null,
            "grid_area": null,
            "grid_template_columns": null,
            "flex": null,
            "_model_name": "LayoutModel",
            "justify_items": null,
            "grid_row": null,
            "max_height": null,
            "align_content": null,
            "visibility": null,
            "align_self": null,
            "height": null,
            "min_height": null,
            "padding": null,
            "grid_auto_rows": null,
            "grid_gap": null,
            "max_width": null,
            "order": null,
            "_view_module_version": "1.2.0",
            "grid_template_areas": null,
            "object_position": null,
            "object_fit": null,
            "grid_auto_columns": null,
            "margin": null,
            "display": null,
            "left": null
          }
        },
        "02c9159646684e60a235b2f97c5c3e90": {
          "model_module": "@jupyter-widgets/controls",
          "model_name": "DescriptionStyleModel",
          "state": {
            "_view_name": "StyleView",
            "_model_name": "DescriptionStyleModel",
            "description_width": "",
            "_view_module": "@jupyter-widgets/base",
            "_model_module_version": "1.5.0",
            "_view_count": null,
            "_view_module_version": "1.2.0",
            "_model_module": "@jupyter-widgets/controls"
          }
        },
        "841b9fd35a4f41eab6a9eecfe60beb7d": {
          "model_module": "@jupyter-widgets/base",
          "model_name": "LayoutModel",
          "state": {
            "_view_name": "LayoutView",
            "grid_template_rows": null,
            "right": null,
            "justify_content": null,
            "_view_module": "@jupyter-widgets/base",
            "overflow": null,
            "_model_module_version": "1.2.0",
            "_view_count": null,
            "flex_flow": null,
            "width": null,
            "min_width": null,
            "border": null,
            "align_items": null,
            "bottom": null,
            "_model_module": "@jupyter-widgets/base",
            "top": null,
            "grid_column": null,
            "overflow_y": null,
            "overflow_x": null,
            "grid_auto_flow": null,
            "grid_area": null,
            "grid_template_columns": null,
            "flex": null,
            "_model_name": "LayoutModel",
            "justify_items": null,
            "grid_row": null,
            "max_height": null,
            "align_content": null,
            "visibility": null,
            "align_self": null,
            "height": null,
            "min_height": null,
            "padding": null,
            "grid_auto_rows": null,
            "grid_gap": null,
            "max_width": null,
            "order": null,
            "_view_module_version": "1.2.0",
            "grid_template_areas": null,
            "object_position": null,
            "object_fit": null,
            "grid_auto_columns": null,
            "margin": null,
            "display": null,
            "left": null
          }
        }
      }
    }
  },
  "cells": [
    {
      "cell_type": "markdown",
      "metadata": {
        "id": "view-in-github",
        "colab_type": "text"
      },
      "source": [
        "<a href=\"https://colab.research.google.com/github/Gail529/Taylor/blob/main/emotions.ipynb\" target=\"_parent\"><img src=\"https://colab.research.google.com/assets/colab-badge.svg\" alt=\"Open In Colab\"/></a>"
      ]
    },
    {
      "cell_type": "code",
      "metadata": {
        "colab": {
          "base_uri": "https://localhost:8080/"
        },
        "id": "SKyI5DPqz_mP",
        "outputId": "79a2a4c0-213d-4f8a-de39-5bd5dae735fd"
      },
      "source": [
        "#preprocessing the lyrics data\r\n",
        "import pandas as pd\r\n",
        "import numpy as np\r\n",
        "import nltk\r\n",
        "nltk.download('punkt')\r\n",
        "nltk.download('stopwords')\r\n",
        "import re \r\n",
        "import string\r\n",
        "from nltk.tokenize import word_tokenize,sent_tokenize\r\n",
        "nltk.download('wordnet')\r\n",
        "from nltk.stem import WordNetLemmatizer\r\n",
        "from nltk.corpus import stopwords\r\n",
        "\r\n",
        "\r\n",
        "from tqdm import tqdm_notebook as tqdm \r\n",
        "from tqdm import trange\r\n",
        "from nltk import word_tokenize\r\n",
        "from nltk.stem import WordNetLemmatizer\r\n",
        " \r\n"
      ],
      "execution_count": 1,
      "outputs": [
        {
          "output_type": "stream",
          "text": [
            "[nltk_data] Downloading package punkt to /root/nltk_data...\n",
            "[nltk_data]   Unzipping tokenizers/punkt.zip.\n",
            "[nltk_data] Downloading package stopwords to /root/nltk_data...\n",
            "[nltk_data]   Unzipping corpora/stopwords.zip.\n",
            "[nltk_data] Downloading package wordnet to /root/nltk_data...\n",
            "[nltk_data]   Unzipping corpora/wordnet.zip.\n"
          ],
          "name": "stdout"
        }
      ]
    },
    {
      "cell_type": "code",
      "metadata": {
        "colab": {
          "base_uri": "https://localhost:8080/",
          "height": 406
        },
        "id": "KgoohN8n15wB",
        "outputId": "a8d26615-63d0-4aa3-dd30-8de34876404e"
      },
      "source": [
        "taylor_lyrics"
      ],
      "execution_count": null,
      "outputs": [
        {
          "output_type": "execute_result",
          "data": {
            "text/html": [
              "<div>\n",
              "<style scoped>\n",
              "    .dataframe tbody tr th:only-of-type {\n",
              "        vertical-align: middle;\n",
              "    }\n",
              "\n",
              "    .dataframe tbody tr th {\n",
              "        vertical-align: top;\n",
              "    }\n",
              "\n",
              "    .dataframe thead th {\n",
              "        text-align: right;\n",
              "    }\n",
              "</style>\n",
              "<table border=\"1\" class=\"dataframe\">\n",
              "  <thead>\n",
              "    <tr style=\"text-align: right;\">\n",
              "      <th></th>\n",
              "      <th>0</th>\n",
              "      <th>1</th>\n",
              "    </tr>\n",
              "  </thead>\n",
              "  <tbody>\n",
              "    <tr>\n",
              "      <th>0</th>\n",
              "      <td>State of Grace</td>\n",
              "      <td>[['I', \"'m\", 'walking', 'fast', 'through', 'th...</td>\n",
              "    </tr>\n",
              "    <tr>\n",
              "      <th>1</th>\n",
              "      <td>Red</td>\n",
              "      <td>[['Loving', 'him', 'is', 'like', 'Driving', 'a...</td>\n",
              "    </tr>\n",
              "    <tr>\n",
              "      <th>2</th>\n",
              "      <td>Treacherous</td>\n",
              "      <td>[['Put', 'your', 'lips', 'close', 'to', 'mine'...</td>\n",
              "    </tr>\n",
              "    <tr>\n",
              "      <th>3</th>\n",
              "      <td>I Knew You Were Trouble</td>\n",
              "      <td>[['Once', 'upon', 'a', 'time', 'A', 'few', 'mi...</td>\n",
              "    </tr>\n",
              "    <tr>\n",
              "      <th>4</th>\n",
              "      <td>All Too Well</td>\n",
              "      <td>[['I', 'walked', 'through', 'the', 'door', 'wi...</td>\n",
              "    </tr>\n",
              "    <tr>\n",
              "      <th>...</th>\n",
              "      <td>...</td>\n",
              "      <td>...</td>\n",
              "    </tr>\n",
              "    <tr>\n",
              "      <th>90</th>\n",
              "      <td>the lakes [Bonus Track]</td>\n",
              "      <td>[['Is', 'it', 'romantic', 'how', 'all', 'of', ...</td>\n",
              "    </tr>\n",
              "    <tr>\n",
              "      <th>91</th>\n",
              "      <td>the last great american dynasty</td>\n",
              "      <td>[['Rebekah', 'rode', 'up', 'on', 'the', 'after...</td>\n",
              "    </tr>\n",
              "    <tr>\n",
              "      <th>92</th>\n",
              "      <td>this is me trying</td>\n",
              "      <td>[['I', \"'ve\", 'been', 'having', 'a', 'hard', '...</td>\n",
              "    </tr>\n",
              "    <tr>\n",
              "      <th>93</th>\n",
              "      <td>tolerate it</td>\n",
              "      <td>[['I', 'sit', 'and', 'watch', 'you', 'reading'...</td>\n",
              "    </tr>\n",
              "    <tr>\n",
              "      <th>94</th>\n",
              "      <td>willow</td>\n",
              "      <td>[['I', \"'m\", 'like', 'the', 'water', 'when', '...</td>\n",
              "    </tr>\n",
              "  </tbody>\n",
              "</table>\n",
              "<p>95 rows × 2 columns</p>\n",
              "</div>"
            ],
            "text/plain": [
              "                                  0                                                  1\n",
              "0                    State of Grace  [['I', \"'m\", 'walking', 'fast', 'through', 'th...\n",
              "1                               Red  [['Loving', 'him', 'is', 'like', 'Driving', 'a...\n",
              "2                       Treacherous  [['Put', 'your', 'lips', 'close', 'to', 'mine'...\n",
              "3           I Knew You Were Trouble  [['Once', 'upon', 'a', 'time', 'A', 'few', 'mi...\n",
              "4                      All Too Well  [['I', 'walked', 'through', 'the', 'door', 'wi...\n",
              "..                              ...                                                ...\n",
              "90          the lakes [Bonus Track]  [['Is', 'it', 'romantic', 'how', 'all', 'of', ...\n",
              "91  the last great american dynasty  [['Rebekah', 'rode', 'up', 'on', 'the', 'after...\n",
              "92                this is me trying  [['I', \"'ve\", 'been', 'having', 'a', 'hard', '...\n",
              "93                      tolerate it  [['I', 'sit', 'and', 'watch', 'you', 'reading'...\n",
              "94                           willow  [['I', \"'m\", 'like', 'the', 'water', 'when', '...\n",
              "\n",
              "[95 rows x 2 columns]"
            ]
          },
          "metadata": {
            "tags": []
          },
          "execution_count": 8
        }
      ]
    },
    {
      "cell_type": "code",
      "metadata": {
        "colab": {
          "base_uri": "https://localhost:8080/"
        },
        "id": "DxgHxW6s2Xzd",
        "outputId": "5156e624-1a50-4835-b717-85987d1701f0"
      },
      "source": [
        "for i in range(0,4):\r\n",
        "    rows=taylor_lyrics.iloc[i,0]\r\n",
        "    print(rows)"
      ],
      "execution_count": null,
      "outputs": [
        {
          "output_type": "stream",
          "text": [
            "State of Grace\n",
            "Red\n",
            "Treacherous\n",
            "I Knew You Were Trouble\n"
          ],
          "name": "stdout"
        }
      ]
    },
    {
      "cell_type": "code",
      "metadata": {
        "id": "VVcYGhi32q_6"
      },
      "source": [
        "#preprocessing all the songs\r\n",
        "for i in range(0,94):\r\n",
        "    song=taylor_lyrics.iloc[i,1]\r\n",
        "    text=re.sub(r'\\d+','',song)#removing numbers\r\n",
        "    #lowercasing\r\n",
        "    text_lower=text.lower()\r\n",
        "    #punctuation removal \r\n",
        "    def  remove_punctuation(word): #function will take in the lowercased text and then remove all the punctuation\r\n",
        "        translator=str.maketrans('','',string.punctuation)\r\n",
        "        text_punct=word.translate(translator)\r\n",
        "        return text_punct\r\n",
        "    result=remove_punctuation(text_lower) #storing the resulting body of  text in variable result\r\n",
        "    #removing stopwords \r\n",
        "    def remove_stopwords(word):#The function will   tokenize the result and then filter off  the stop_words \r\n",
        "        stop_words=set(stopwords.words(\"english\")) \r\n",
        "        word_tokens= word_tokenize(word)\r\n",
        "        result=[word for word in word_tokens if word not in stop_words ]\r\n",
        "        return result\r\n",
        "    lyrics=[remove_stopwords(result)]\r\n",
        "    #replacing the values of the lyrics column in the dataframe with the  preprocessed  lyrics\r\n",
        "    taylor_lyrics.iat[i,1]=lyrics\r\n"
      ],
      "execution_count": null,
      "outputs": []
    },
    {
      "cell_type": "code",
      "metadata": {
        "id": "QhQjdfbS4jU8"
      },
      "source": [
        "taylor_lyrics.to_csv('clean_lyrics.csv')"
      ],
      "execution_count": null,
      "outputs": []
    },
    {
      "cell_type": "code",
      "metadata": {
        "colab": {
          "base_uri": "https://localhost:8080/",
          "height": 197
        },
        "id": "daLPkkpH71Jo",
        "outputId": "ca507860-ffb3-4952-dc2e-1b540dce8c76"
      },
      "source": [
        "data=pd.read_csv('/content/clean_lyrics.csv')\r\n",
        "data.head()"
      ],
      "execution_count": null,
      "outputs": [
        {
          "output_type": "execute_result",
          "data": {
            "text/html": [
              "<div>\n",
              "<style scoped>\n",
              "    .dataframe tbody tr th:only-of-type {\n",
              "        vertical-align: middle;\n",
              "    }\n",
              "\n",
              "    .dataframe tbody tr th {\n",
              "        vertical-align: top;\n",
              "    }\n",
              "\n",
              "    .dataframe thead th {\n",
              "        text-align: right;\n",
              "    }\n",
              "</style>\n",
              "<table border=\"1\" class=\"dataframe\">\n",
              "  <thead>\n",
              "    <tr style=\"text-align: right;\">\n",
              "      <th></th>\n",
              "      <th>Unnamed: 0</th>\n",
              "      <th>0</th>\n",
              "      <th>1</th>\n",
              "    </tr>\n",
              "  </thead>\n",
              "  <tbody>\n",
              "    <tr>\n",
              "      <th>0</th>\n",
              "      <td>0</td>\n",
              "      <td>State of Grace</td>\n",
              "      <td>[['walking', 'fast', 'traffic', 'lights', 'bus...</td>\n",
              "    </tr>\n",
              "    <tr>\n",
              "      <th>1</th>\n",
              "      <td>1</td>\n",
              "      <td>Red</td>\n",
              "      <td>[['loving', 'like', 'driving', 'new', 'maserat...</td>\n",
              "    </tr>\n",
              "    <tr>\n",
              "      <th>2</th>\n",
              "      <td>2</td>\n",
              "      <td>Treacherous</td>\n",
              "      <td>[['put', 'lips', 'close', 'mine', 'long', 'nt'...</td>\n",
              "    </tr>\n",
              "    <tr>\n",
              "      <th>3</th>\n",
              "      <td>3</td>\n",
              "      <td>I Knew You Were Trouble</td>\n",
              "      <td>[['upon', 'time', 'mistakes', 'ago', 'sights',...</td>\n",
              "    </tr>\n",
              "    <tr>\n",
              "      <th>4</th>\n",
              "      <td>4</td>\n",
              "      <td>All Too Well</td>\n",
              "      <td>[['walked', 'door', 'air', 'cold', 'something'...</td>\n",
              "    </tr>\n",
              "  </tbody>\n",
              "</table>\n",
              "</div>"
            ],
            "text/plain": [
              "   Unnamed: 0  ...                                                  1\n",
              "0           0  ...  [['walking', 'fast', 'traffic', 'lights', 'bus...\n",
              "1           1  ...  [['loving', 'like', 'driving', 'new', 'maserat...\n",
              "2           2  ...  [['put', 'lips', 'close', 'mine', 'long', 'nt'...\n",
              "3           3  ...  [['upon', 'time', 'mistakes', 'ago', 'sights',...\n",
              "4           4  ...  [['walked', 'door', 'air', 'cold', 'something'...\n",
              "\n",
              "[5 rows x 3 columns]"
            ]
          },
          "metadata": {
            "tags": []
          },
          "execution_count": 18
        }
      ]
    },
    {
      "cell_type": "code",
      "metadata": {
        "id": "2Mn1b0dt68ch"
      },
      "source": [
        "from tqdm import tqdm_notebook as tqdm \r\n",
        "from tqdm import trange\r\n",
        "from nltk import word_tokenize\r\n",
        "from nltk.stem import WordNetLemmatizer\r\n",
        "import string\r\n"
      ],
      "execution_count": null,
      "outputs": []
    },
    {
      "cell_type": "code",
      "metadata": {
        "id": "x63sNx_c7DCQ"
      },
      "source": [
        "emo_lex=pd.read_excel('/content/NRC-Emotion-Lexicon-v0.92-In105Languages-Nov2017Translations.xlsx') # emotion lexicon "
      ],
      "execution_count": null,
      "outputs": []
    },
    {
      "cell_type": "code",
      "metadata": {
        "colab": {
          "base_uri": "https://localhost:8080/"
        },
        "id": "I-HadM317ITu",
        "outputId": "3817e331-e71e-49a5-da44-6733a5d9a220"
      },
      "source": [
        "emolex_df=emo_lex[['English (en)','Positive','Negative','Anger','Anticipation','Disgust','Fear','Joy','Sadness','Surprise','Trust']]\r\n",
        "emotions=emolex_df.columns.drop('English (en)')\r\n",
        "emolex_df.rename(columns={'English (en)':'word'},inplace=True)"
      ],
      "execution_count": null,
      "outputs": [
        {
          "output_type": "stream",
          "text": [
            "/usr/local/lib/python3.6/dist-packages/pandas/core/frame.py:4308: SettingWithCopyWarning: \n",
            "A value is trying to be set on a copy of a slice from a DataFrame\n",
            "\n",
            "See the caveats in the documentation: https://pandas.pydata.org/pandas-docs/stable/user_guide/indexing.html#returning-a-view-versus-a-copy\n",
            "  errors=errors,\n"
          ],
          "name": "stderr"
        }
      ]
    },
    {
      "cell_type": "code",
      "metadata": {
        "id": "kNct7WvW7YWk"
      },
      "source": [
        "import re\r\n",
        "for i in range(94):\r\n",
        "    song=data.iloc[i,2]\r\n",
        "    lyrics=re.sub('['+string.punctuation+']','',song)# removing punctuations\r\n",
        "    data.iat[i,2]=lyrics\r\n"
      ],
      "execution_count": null,
      "outputs": []
    },
    {
      "cell_type": "code",
      "metadata": {
        "colab": {
          "base_uri": "https://localhost:8080/",
          "height": 197
        },
        "id": "qVwNqosA8IIt",
        "outputId": "ae07d91b-969b-440f-dc23-bbd9895b7d18"
      },
      "source": [
        "data.head()"
      ],
      "execution_count": null,
      "outputs": [
        {
          "output_type": "execute_result",
          "data": {
            "text/html": [
              "<div>\n",
              "<style scoped>\n",
              "    .dataframe tbody tr th:only-of-type {\n",
              "        vertical-align: middle;\n",
              "    }\n",
              "\n",
              "    .dataframe tbody tr th {\n",
              "        vertical-align: top;\n",
              "    }\n",
              "\n",
              "    .dataframe thead th {\n",
              "        text-align: right;\n",
              "    }\n",
              "</style>\n",
              "<table border=\"1\" class=\"dataframe\">\n",
              "  <thead>\n",
              "    <tr style=\"text-align: right;\">\n",
              "      <th></th>\n",
              "      <th>Unnamed: 0</th>\n",
              "      <th>0</th>\n",
              "      <th>1</th>\n",
              "    </tr>\n",
              "  </thead>\n",
              "  <tbody>\n",
              "    <tr>\n",
              "      <th>0</th>\n",
              "      <td>0</td>\n",
              "      <td>State of Grace</td>\n",
              "      <td>walking fast traffic lights busy streets busy ...</td>\n",
              "    </tr>\n",
              "    <tr>\n",
              "      <th>1</th>\n",
              "      <td>1</td>\n",
              "      <td>Red</td>\n",
              "      <td>loving like driving new maserati deadend stree...</td>\n",
              "    </tr>\n",
              "    <tr>\n",
              "      <th>2</th>\n",
              "      <td>2</td>\n",
              "      <td>Treacherous</td>\n",
              "      <td>put lips close mine long nt touch focus eye ey...</td>\n",
              "    </tr>\n",
              "    <tr>\n",
              "      <th>3</th>\n",
              "      <td>3</td>\n",
              "      <td>I Knew You Were Trouble</td>\n",
              "      <td>upon time mistakes ago sights got alone found ...</td>\n",
              "    </tr>\n",
              "    <tr>\n",
              "      <th>4</th>\n",
              "      <td>4</td>\n",
              "      <td>All Too Well</td>\n",
              "      <td>walked door air cold something bout felt like ...</td>\n",
              "    </tr>\n",
              "  </tbody>\n",
              "</table>\n",
              "</div>"
            ],
            "text/plain": [
              "   Unnamed: 0  ...                                                  1\n",
              "0           0  ...  walking fast traffic lights busy streets busy ...\n",
              "1           1  ...  loving like driving new maserati deadend stree...\n",
              "2           2  ...  put lips close mine long nt touch focus eye ey...\n",
              "3           3  ...  upon time mistakes ago sights got alone found ...\n",
              "4           4  ...  walked door air cold something bout felt like ...\n",
              "\n",
              "[5 rows x 3 columns]"
            ]
          },
          "metadata": {
            "tags": []
          },
          "execution_count": 20
        }
      ]
    },
    {
      "cell_type": "code",
      "metadata": {
        "id": "tks0cpOb8Mu6"
      },
      "source": [
        "#the function passes the column(col) of the respective dataframe passed as arguements\r\n",
        "def text_emotion(song_df,col):\r\n",
        "  new_song_df=song_df.copy()\r\n",
        "  #new  dataframe that will store the emotion scores\r\n",
        "  emo_df=pd.DataFrame(0,index=new_song_df.index, columns=emotions)\r\n",
        "  lemmatizer=WordNetLemmatizer()\r\n",
        "\r\n",
        "  \r\n",
        "  with tqdm(total=len(list(new_song_df.iterrows()))) as pbar:\r\n",
        "    for i ,row in new_song_df.iterrows(): \r\n",
        "        pbar.update(1) #update the progress bar\r\n",
        "        song=word_tokenize(new_song_df.loc[i][col]) #the body of text for each individual song(row)\r\n",
        "\r\n",
        "        for word in song:\r\n",
        "            new=lemmatizer.lemmatize(word)#lemmatizing the words\r\n",
        "            emo_score=emolex_df[emolex_df.word == new]     \r\n",
        "            if not emo_score.empty:\r\n",
        "                for emotion in list(emotions):\r\n",
        "                    emo_df.at[i,emotion] += emo_score[emotion]\r\n",
        "\r\n",
        "\r\n",
        "    new_song_df=pd.concat([new_song_df,emo_df] ,axis=1)\r\n",
        "    return new_song_df"
      ],
      "execution_count": null,
      "outputs": []
    },
    {
      "cell_type": "code",
      "metadata": {
        "colab": {
          "base_uri": "https://localhost:8080/",
          "height": 120,
          "referenced_widgets": [
            "39ee5a26ffe8471b80bd4c4437990bad",
            "ba27285072894d1facbae1eb1d7606b5",
            "1197f07010454e22a433abd49d8c9ebc",
            "8e54c18f129645b1bf6e554f757deaee",
            "9b709a34bec54a8a81264a2b5d0dd8c7",
            "81ff7e3b6bc5496a86f4949886c4803b",
            "02c9159646684e60a235b2f97c5c3e90",
            "841b9fd35a4f41eab6a9eecfe60beb7d"
          ]
        },
        "id": "AixZHSrY8bBU",
        "outputId": "48f504fb-9f7e-4216-b215-bd1b95aa55f2"
      },
      "source": [
        "final_df=text_emotion(data,'1')"
      ],
      "execution_count": null,
      "outputs": [
        {
          "output_type": "stream",
          "text": [
            "/usr/local/lib/python3.6/dist-packages/ipykernel_launcher.py:9: TqdmDeprecationWarning: This function will be removed in tqdm==5.0.0\n",
            "Please use `tqdm.notebook.tqdm` instead of `tqdm.tqdm_notebook`\n",
            "  if __name__ == '__main__':\n"
          ],
          "name": "stderr"
        },
        {
          "output_type": "display_data",
          "data": {
            "application/vnd.jupyter.widget-view+json": {
              "model_id": "39ee5a26ffe8471b80bd4c4437990bad",
              "version_minor": 0,
              "version_major": 2
            },
            "text/plain": [
              "HBox(children=(FloatProgress(value=0.0, max=95.0), HTML(value='')))"
            ]
          },
          "metadata": {
            "tags": []
          }
        },
        {
          "output_type": "stream",
          "text": [
            "\n"
          ],
          "name": "stdout"
        }
      ]
    },
    {
      "cell_type": "code",
      "metadata": {
        "colab": {
          "base_uri": "https://localhost:8080/",
          "height": 647
        },
        "id": "qLkNeEGO9e-g",
        "outputId": "7013a994-cb9b-452f-f2f2-fc934f39b1b4"
      },
      "source": [
        "final_df.head(10)"
      ],
      "execution_count": null,
      "outputs": [
        {
          "output_type": "execute_result",
          "data": {
            "text/html": [
              "<div>\n",
              "<style scoped>\n",
              "    .dataframe tbody tr th:only-of-type {\n",
              "        vertical-align: middle;\n",
              "    }\n",
              "\n",
              "    .dataframe tbody tr th {\n",
              "        vertical-align: top;\n",
              "    }\n",
              "\n",
              "    .dataframe thead th {\n",
              "        text-align: right;\n",
              "    }\n",
              "</style>\n",
              "<table border=\"1\" class=\"dataframe\">\n",
              "  <thead>\n",
              "    <tr style=\"text-align: right;\">\n",
              "      <th></th>\n",
              "      <th>Unnamed: 0</th>\n",
              "      <th>song-title</th>\n",
              "      <th>lyrics</th>\n",
              "      <th>Positive</th>\n",
              "      <th>Negative</th>\n",
              "      <th>Anger</th>\n",
              "      <th>Anticipation</th>\n",
              "      <th>Disgust</th>\n",
              "      <th>Fear</th>\n",
              "      <th>Joy</th>\n",
              "      <th>Sadness</th>\n",
              "      <th>Surprise</th>\n",
              "      <th>Trust</th>\n",
              "    </tr>\n",
              "  </thead>\n",
              "  <tbody>\n",
              "    <tr>\n",
              "      <th>0</th>\n",
              "      <td>0</td>\n",
              "      <td>State of Grace</td>\n",
              "      <td>walking fast traffic lights busy streets busy ...</td>\n",
              "      <td>21</td>\n",
              "      <td>19</td>\n",
              "      <td>8</td>\n",
              "      <td>11</td>\n",
              "      <td>2</td>\n",
              "      <td>12</td>\n",
              "      <td>11</td>\n",
              "      <td>8</td>\n",
              "      <td>7</td>\n",
              "      <td>8</td>\n",
              "    </tr>\n",
              "    <tr>\n",
              "      <th>1</th>\n",
              "      <td>1</td>\n",
              "      <td>Red</td>\n",
              "      <td>loving like driving new maserati deadend stree...</td>\n",
              "      <td>14</td>\n",
              "      <td>12</td>\n",
              "      <td>6</td>\n",
              "      <td>2</td>\n",
              "      <td>2</td>\n",
              "      <td>7</td>\n",
              "      <td>11</td>\n",
              "      <td>17</td>\n",
              "      <td>2</td>\n",
              "      <td>10</td>\n",
              "    </tr>\n",
              "    <tr>\n",
              "      <th>2</th>\n",
              "      <td>2</td>\n",
              "      <td>Treacherous</td>\n",
              "      <td>put lips close mine long nt touch focus eye ey...</td>\n",
              "      <td>11</td>\n",
              "      <td>10</td>\n",
              "      <td>10</td>\n",
              "      <td>5</td>\n",
              "      <td>7</td>\n",
              "      <td>10</td>\n",
              "      <td>4</td>\n",
              "      <td>0</td>\n",
              "      <td>2</td>\n",
              "      <td>4</td>\n",
              "    </tr>\n",
              "    <tr>\n",
              "      <th>3</th>\n",
              "      <td>3</td>\n",
              "      <td>I Knew You Were Trouble</td>\n",
              "      <td>upon time mistakes ago sights got alone found ...</td>\n",
              "      <td>5</td>\n",
              "      <td>17</td>\n",
              "      <td>3</td>\n",
              "      <td>3</td>\n",
              "      <td>7</td>\n",
              "      <td>8</td>\n",
              "      <td>3</td>\n",
              "      <td>9</td>\n",
              "      <td>2</td>\n",
              "      <td>6</td>\n",
              "    </tr>\n",
              "    <tr>\n",
              "      <th>4</th>\n",
              "      <td>4</td>\n",
              "      <td>All Too Well</td>\n",
              "      <td>walked door air cold something bout felt like ...</td>\n",
              "      <td>8</td>\n",
              "      <td>15</td>\n",
              "      <td>8</td>\n",
              "      <td>7</td>\n",
              "      <td>4</td>\n",
              "      <td>3</td>\n",
              "      <td>6</td>\n",
              "      <td>8</td>\n",
              "      <td>3</td>\n",
              "      <td>8</td>\n",
              "    </tr>\n",
              "    <tr>\n",
              "      <th>5</th>\n",
              "      <td>5</td>\n",
              "      <td>22</td>\n",
              "      <td>feels like perfect night dress like hipsters m...</td>\n",
              "      <td>14</td>\n",
              "      <td>13</td>\n",
              "      <td>9</td>\n",
              "      <td>13</td>\n",
              "      <td>9</td>\n",
              "      <td>8</td>\n",
              "      <td>11</td>\n",
              "      <td>10</td>\n",
              "      <td>5</td>\n",
              "      <td>7</td>\n",
              "    </tr>\n",
              "    <tr>\n",
              "      <th>6</th>\n",
              "      <td>6</td>\n",
              "      <td>I Almost Do</td>\n",
              "      <td>bet time night still bet tired long hard week ...</td>\n",
              "      <td>5</td>\n",
              "      <td>12</td>\n",
              "      <td>3</td>\n",
              "      <td>13</td>\n",
              "      <td>2</td>\n",
              "      <td>6</td>\n",
              "      <td>4</td>\n",
              "      <td>5</td>\n",
              "      <td>4</td>\n",
              "      <td>5</td>\n",
              "    </tr>\n",
              "    <tr>\n",
              "      <th>7</th>\n",
              "      <td>7</td>\n",
              "      <td>We Are Never Ever Getting Back Together [Album...</td>\n",
              "      <td>remember broke first time saying enough cause ...</td>\n",
              "      <td>27</td>\n",
              "      <td>5</td>\n",
              "      <td>3</td>\n",
              "      <td>4</td>\n",
              "      <td>2</td>\n",
              "      <td>6</td>\n",
              "      <td>12</td>\n",
              "      <td>3</td>\n",
              "      <td>1</td>\n",
              "      <td>11</td>\n",
              "    </tr>\n",
              "    <tr>\n",
              "      <th>8</th>\n",
              "      <td>8</td>\n",
              "      <td>Stay Stay Stay</td>\n",
              "      <td>pretty sure almost broke last night threw phon...</td>\n",
              "      <td>16</td>\n",
              "      <td>22</td>\n",
              "      <td>18</td>\n",
              "      <td>22</td>\n",
              "      <td>16</td>\n",
              "      <td>21</td>\n",
              "      <td>12</td>\n",
              "      <td>20</td>\n",
              "      <td>3</td>\n",
              "      <td>7</td>\n",
              "    </tr>\n",
              "    <tr>\n",
              "      <th>9</th>\n",
              "      <td>9</td>\n",
              "      <td>The Last Time</td>\n",
              "      <td>find door like times sure got roads lead imagi...</td>\n",
              "      <td>8</td>\n",
              "      <td>5</td>\n",
              "      <td>1</td>\n",
              "      <td>35</td>\n",
              "      <td>0</td>\n",
              "      <td>4</td>\n",
              "      <td>0</td>\n",
              "      <td>3</td>\n",
              "      <td>6</td>\n",
              "      <td>6</td>\n",
              "    </tr>\n",
              "  </tbody>\n",
              "</table>\n",
              "</div>"
            ],
            "text/plain": [
              "   Unnamed: 0  ... Trust\n",
              "0           0  ...     8\n",
              "1           1  ...    10\n",
              "2           2  ...     4\n",
              "3           3  ...     6\n",
              "4           4  ...     8\n",
              "5           5  ...     7\n",
              "6           6  ...     5\n",
              "7           7  ...    11\n",
              "8           8  ...     7\n",
              "9           9  ...     6\n",
              "\n",
              "[10 rows x 13 columns]"
            ]
          },
          "metadata": {
            "tags": []
          },
          "execution_count": 26
        }
      ]
    },
    {
      "cell_type": "code",
      "metadata": {
        "id": "8u18QXot9s92"
      },
      "source": [
        "cols=final_df.columns\r\n",
        "col=cols[0]\r\n",
        "final_df.rename(columns={'0':'song-title','1':'lyrics'},inplace=True)"
      ],
      "execution_count": null,
      "outputs": []
    },
    {
      "cell_type": "code",
      "metadata": {
        "id": "OUkR86Qh-OvB"
      },
      "source": [
        "final_df.to_csv('taylor_emotion_scores.csv')"
      ],
      "execution_count": null,
      "outputs": []
    },
    {
      "cell_type": "markdown",
      "metadata": {
        "id": "2_5Mvhe7_jqf"
      },
      "source": [
        "# Join Emotion_df to audio_features "
      ]
    },
    {
      "cell_type": "code",
      "metadata": {
        "colab": {
          "base_uri": "https://localhost:8080/",
          "height": 381
        },
        "id": "iCYmkLmJPN7f",
        "outputId": "8c367969-acf2-423f-9e8c-401f5ab3b4e8"
      },
      "source": [
        "emo_df=pd.read_csv('/content/taylor_emotion_scores.csv')\r\n",
        "emo_df.head(5)"
      ],
      "execution_count": 2,
      "outputs": [
        {
          "output_type": "execute_result",
          "data": {
            "text/html": [
              "<div>\n",
              "<style scoped>\n",
              "    .dataframe tbody tr th:only-of-type {\n",
              "        vertical-align: middle;\n",
              "    }\n",
              "\n",
              "    .dataframe tbody tr th {\n",
              "        vertical-align: top;\n",
              "    }\n",
              "\n",
              "    .dataframe thead th {\n",
              "        text-align: right;\n",
              "    }\n",
              "</style>\n",
              "<table border=\"1\" class=\"dataframe\">\n",
              "  <thead>\n",
              "    <tr style=\"text-align: right;\">\n",
              "      <th></th>\n",
              "      <th>Unnamed: 0</th>\n",
              "      <th>Unnamed: 0.1</th>\n",
              "      <th>song-title</th>\n",
              "      <th>lyrics</th>\n",
              "      <th>Positive</th>\n",
              "      <th>Negative</th>\n",
              "      <th>Anger</th>\n",
              "      <th>Anticipation</th>\n",
              "      <th>Disgust</th>\n",
              "      <th>Fear</th>\n",
              "      <th>Joy</th>\n",
              "      <th>Sadness</th>\n",
              "      <th>Surprise</th>\n",
              "      <th>Trust</th>\n",
              "    </tr>\n",
              "  </thead>\n",
              "  <tbody>\n",
              "    <tr>\n",
              "      <th>0</th>\n",
              "      <td>0</td>\n",
              "      <td>0</td>\n",
              "      <td>State of Grace</td>\n",
              "      <td>walking fast traffic lights busy streets busy ...</td>\n",
              "      <td>21</td>\n",
              "      <td>19</td>\n",
              "      <td>8</td>\n",
              "      <td>11</td>\n",
              "      <td>2</td>\n",
              "      <td>12</td>\n",
              "      <td>11</td>\n",
              "      <td>8</td>\n",
              "      <td>7</td>\n",
              "      <td>8</td>\n",
              "    </tr>\n",
              "    <tr>\n",
              "      <th>1</th>\n",
              "      <td>1</td>\n",
              "      <td>1</td>\n",
              "      <td>Red</td>\n",
              "      <td>loving like driving new maserati deadend stree...</td>\n",
              "      <td>14</td>\n",
              "      <td>12</td>\n",
              "      <td>6</td>\n",
              "      <td>2</td>\n",
              "      <td>2</td>\n",
              "      <td>7</td>\n",
              "      <td>11</td>\n",
              "      <td>17</td>\n",
              "      <td>2</td>\n",
              "      <td>10</td>\n",
              "    </tr>\n",
              "    <tr>\n",
              "      <th>2</th>\n",
              "      <td>2</td>\n",
              "      <td>2</td>\n",
              "      <td>Treacherous</td>\n",
              "      <td>put lips close mine long nt touch focus eye ey...</td>\n",
              "      <td>11</td>\n",
              "      <td>10</td>\n",
              "      <td>10</td>\n",
              "      <td>5</td>\n",
              "      <td>7</td>\n",
              "      <td>10</td>\n",
              "      <td>4</td>\n",
              "      <td>0</td>\n",
              "      <td>2</td>\n",
              "      <td>4</td>\n",
              "    </tr>\n",
              "    <tr>\n",
              "      <th>3</th>\n",
              "      <td>3</td>\n",
              "      <td>3</td>\n",
              "      <td>I Knew You Were Trouble</td>\n",
              "      <td>upon time mistakes ago sights got alone found ...</td>\n",
              "      <td>5</td>\n",
              "      <td>17</td>\n",
              "      <td>3</td>\n",
              "      <td>3</td>\n",
              "      <td>7</td>\n",
              "      <td>8</td>\n",
              "      <td>3</td>\n",
              "      <td>9</td>\n",
              "      <td>2</td>\n",
              "      <td>6</td>\n",
              "    </tr>\n",
              "    <tr>\n",
              "      <th>4</th>\n",
              "      <td>4</td>\n",
              "      <td>4</td>\n",
              "      <td>All Too Well</td>\n",
              "      <td>walked door air cold something bout felt like ...</td>\n",
              "      <td>8</td>\n",
              "      <td>15</td>\n",
              "      <td>8</td>\n",
              "      <td>7</td>\n",
              "      <td>4</td>\n",
              "      <td>3</td>\n",
              "      <td>6</td>\n",
              "      <td>8</td>\n",
              "      <td>3</td>\n",
              "      <td>8</td>\n",
              "    </tr>\n",
              "  </tbody>\n",
              "</table>\n",
              "</div>"
            ],
            "text/plain": [
              "   Unnamed: 0  Unnamed: 0.1               song-title  ... Sadness  Surprise  Trust\n",
              "0           0             0           State of Grace  ...       8         7      8\n",
              "1           1             1                      Red  ...      17         2     10\n",
              "2           2             2              Treacherous  ...       0         2      4\n",
              "3           3             3  I Knew You Were Trouble  ...       9         2      6\n",
              "4           4             4             All Too Well  ...       8         3      8\n",
              "\n",
              "[5 rows x 14 columns]"
            ]
          },
          "metadata": {
            "tags": []
          },
          "execution_count": 2
        }
      ]
    },
    {
      "cell_type": "code",
      "metadata": {
        "id": "rMu77_Qu-ial",
        "colab": {
          "base_uri": "https://localhost:8080/",
          "height": 284
        },
        "outputId": "c2f2cda8-7c98-413b-c360-712136847ea7"
      },
      "source": [
        "audio_df=pd.read_excel('/content/audio_features.xlsx')\r\n",
        "audio_df.head(5)"
      ],
      "execution_count": 3,
      "outputs": [
        {
          "output_type": "execute_result",
          "data": {
            "text/html": [
              "<div>\n",
              "<style scoped>\n",
              "    .dataframe tbody tr th:only-of-type {\n",
              "        vertical-align: middle;\n",
              "    }\n",
              "\n",
              "    .dataframe tbody tr th {\n",
              "        vertical-align: top;\n",
              "    }\n",
              "\n",
              "    .dataframe thead th {\n",
              "        text-align: right;\n",
              "    }\n",
              "</style>\n",
              "<table border=\"1\" class=\"dataframe\">\n",
              "  <thead>\n",
              "    <tr style=\"text-align: right;\">\n",
              "      <th></th>\n",
              "      <th>album</th>\n",
              "      <th>song</th>\n",
              "      <th>acousticness</th>\n",
              "      <th>danceability</th>\n",
              "      <th>energy</th>\n",
              "      <th>instrumentalness</th>\n",
              "      <th>liveness</th>\n",
              "      <th>loudness</th>\n",
              "      <th>speechiness</th>\n",
              "      <th>tempo</th>\n",
              "      <th>valence</th>\n",
              "      <th>popularity</th>\n",
              "      <th>Unnamed: 12</th>\n",
              "      <th>Unnamed: 13</th>\n",
              "      <th>Unnamed: 14</th>\n",
              "      <th>Unnamed: 15</th>\n",
              "      <th>Unnamed: 16</th>\n",
              "      <th>Unnamed: 17</th>\n",
              "      <th>Unnamed: 18</th>\n",
              "    </tr>\n",
              "  </thead>\n",
              "  <tbody>\n",
              "    <tr>\n",
              "      <th>0</th>\n",
              "      <td>evermore</td>\n",
              "      <td>willow</td>\n",
              "      <td>0.833</td>\n",
              "      <td>0.392</td>\n",
              "      <td>0.574</td>\n",
              "      <td>0.001790</td>\n",
              "      <td>0.1450</td>\n",
              "      <td>-9.195</td>\n",
              "      <td>0.1700</td>\n",
              "      <td>81.112</td>\n",
              "      <td>0.529</td>\n",
              "      <td>92</td>\n",
              "      <td>NaN</td>\n",
              "      <td>NaN</td>\n",
              "      <td>NaN</td>\n",
              "      <td>NaN</td>\n",
              "      <td>NaN</td>\n",
              "      <td>NaN</td>\n",
              "      <td>NaN</td>\n",
              "    </tr>\n",
              "    <tr>\n",
              "      <th>1</th>\n",
              "      <td>evermore</td>\n",
              "      <td>champagne problems</td>\n",
              "      <td>0.920</td>\n",
              "      <td>0.462</td>\n",
              "      <td>0.240</td>\n",
              "      <td>0.000000</td>\n",
              "      <td>0.1130</td>\n",
              "      <td>-12.077</td>\n",
              "      <td>0.0377</td>\n",
              "      <td>171.319</td>\n",
              "      <td>0.320</td>\n",
              "      <td>89</td>\n",
              "      <td>NaN</td>\n",
              "      <td>NaN</td>\n",
              "      <td>NaN</td>\n",
              "      <td>NaN</td>\n",
              "      <td>NaN</td>\n",
              "      <td>NaN</td>\n",
              "      <td>NaN</td>\n",
              "    </tr>\n",
              "    <tr>\n",
              "      <th>2</th>\n",
              "      <td>evermore</td>\n",
              "      <td>gold rush</td>\n",
              "      <td>0.830</td>\n",
              "      <td>0.512</td>\n",
              "      <td>0.462</td>\n",
              "      <td>0.166000</td>\n",
              "      <td>0.1210</td>\n",
              "      <td>-10.491</td>\n",
              "      <td>0.0408</td>\n",
              "      <td>112.050</td>\n",
              "      <td>0.353</td>\n",
              "      <td>87</td>\n",
              "      <td>NaN</td>\n",
              "      <td>NaN</td>\n",
              "      <td>NaN</td>\n",
              "      <td>NaN</td>\n",
              "      <td>NaN</td>\n",
              "      <td>NaN</td>\n",
              "      <td>NaN</td>\n",
              "    </tr>\n",
              "    <tr>\n",
              "      <th>3</th>\n",
              "      <td>evermore</td>\n",
              "      <td>â€˜tis the damn season</td>\n",
              "      <td>0.735</td>\n",
              "      <td>0.575</td>\n",
              "      <td>0.434</td>\n",
              "      <td>0.000066</td>\n",
              "      <td>0.1050</td>\n",
              "      <td>-8.193</td>\n",
              "      <td>0.0312</td>\n",
              "      <td>145.916</td>\n",
              "      <td>0.348</td>\n",
              "      <td>87</td>\n",
              "      <td>NaN</td>\n",
              "      <td>NaN</td>\n",
              "      <td>NaN</td>\n",
              "      <td>NaN</td>\n",
              "      <td>NaN</td>\n",
              "      <td>NaN</td>\n",
              "      <td>NaN</td>\n",
              "    </tr>\n",
              "    <tr>\n",
              "      <th>4</th>\n",
              "      <td>evermore</td>\n",
              "      <td>tolerate it</td>\n",
              "      <td>0.878</td>\n",
              "      <td>0.316</td>\n",
              "      <td>0.361</td>\n",
              "      <td>0.000027</td>\n",
              "      <td>0.0797</td>\n",
              "      <td>-10.381</td>\n",
              "      <td>0.0488</td>\n",
              "      <td>74.952</td>\n",
              "      <td>0.221</td>\n",
              "      <td>86</td>\n",
              "      <td>NaN</td>\n",
              "      <td>NaN</td>\n",
              "      <td>NaN</td>\n",
              "      <td>NaN</td>\n",
              "      <td>NaN</td>\n",
              "      <td>NaN</td>\n",
              "      <td>NaN</td>\n",
              "    </tr>\n",
              "  </tbody>\n",
              "</table>\n",
              "</div>"
            ],
            "text/plain": [
              "      album                    song  ...  Unnamed: 17  Unnamed: 18\n",
              "0  evermore                  willow  ...          NaN          NaN\n",
              "1  evermore      champagne problems  ...          NaN          NaN\n",
              "2  evermore               gold rush  ...          NaN          NaN\n",
              "3  evermore  â€˜tis the damn season  ...          NaN          NaN\n",
              "4  evermore             tolerate it  ...          NaN          NaN\n",
              "\n",
              "[5 rows x 19 columns]"
            ]
          },
          "metadata": {
            "tags": []
          },
          "execution_count": 3
        }
      ]
    },
    {
      "cell_type": "code",
      "metadata": {
        "id": "ki57Oj5WQvpc",
        "colab": {
          "base_uri": "https://localhost:8080/",
          "height": 456
        },
        "outputId": "ad630bc0-8597-4435-cec3-5e16af70bf90"
      },
      "source": [
        "audio_df.dropna(axis=1)"
      ],
      "execution_count": 4,
      "outputs": [
        {
          "output_type": "execute_result",
          "data": {
            "text/html": [
              "<div>\n",
              "<style scoped>\n",
              "    .dataframe tbody tr th:only-of-type {\n",
              "        vertical-align: middle;\n",
              "    }\n",
              "\n",
              "    .dataframe tbody tr th {\n",
              "        vertical-align: top;\n",
              "    }\n",
              "\n",
              "    .dataframe thead th {\n",
              "        text-align: right;\n",
              "    }\n",
              "</style>\n",
              "<table border=\"1\" class=\"dataframe\">\n",
              "  <thead>\n",
              "    <tr style=\"text-align: right;\">\n",
              "      <th></th>\n",
              "      <th>album</th>\n",
              "      <th>song</th>\n",
              "      <th>acousticness</th>\n",
              "      <th>danceability</th>\n",
              "      <th>energy</th>\n",
              "      <th>instrumentalness</th>\n",
              "      <th>liveness</th>\n",
              "      <th>loudness</th>\n",
              "      <th>speechiness</th>\n",
              "      <th>tempo</th>\n",
              "      <th>valence</th>\n",
              "      <th>popularity</th>\n",
              "    </tr>\n",
              "  </thead>\n",
              "  <tbody>\n",
              "    <tr>\n",
              "      <th>0</th>\n",
              "      <td>evermore</td>\n",
              "      <td>willow</td>\n",
              "      <td>0.83300</td>\n",
              "      <td>0.392</td>\n",
              "      <td>0.574</td>\n",
              "      <td>0.001790</td>\n",
              "      <td>0.1450</td>\n",
              "      <td>-9.195</td>\n",
              "      <td>0.1700</td>\n",
              "      <td>81.112</td>\n",
              "      <td>0.529</td>\n",
              "      <td>92</td>\n",
              "    </tr>\n",
              "    <tr>\n",
              "      <th>1</th>\n",
              "      <td>evermore</td>\n",
              "      <td>champagne problems</td>\n",
              "      <td>0.92000</td>\n",
              "      <td>0.462</td>\n",
              "      <td>0.240</td>\n",
              "      <td>0.000000</td>\n",
              "      <td>0.1130</td>\n",
              "      <td>-12.077</td>\n",
              "      <td>0.0377</td>\n",
              "      <td>171.319</td>\n",
              "      <td>0.320</td>\n",
              "      <td>89</td>\n",
              "    </tr>\n",
              "    <tr>\n",
              "      <th>2</th>\n",
              "      <td>evermore</td>\n",
              "      <td>gold rush</td>\n",
              "      <td>0.83000</td>\n",
              "      <td>0.512</td>\n",
              "      <td>0.462</td>\n",
              "      <td>0.166000</td>\n",
              "      <td>0.1210</td>\n",
              "      <td>-10.491</td>\n",
              "      <td>0.0408</td>\n",
              "      <td>112.050</td>\n",
              "      <td>0.353</td>\n",
              "      <td>87</td>\n",
              "    </tr>\n",
              "    <tr>\n",
              "      <th>3</th>\n",
              "      <td>evermore</td>\n",
              "      <td>â€˜tis the damn season</td>\n",
              "      <td>0.73500</td>\n",
              "      <td>0.575</td>\n",
              "      <td>0.434</td>\n",
              "      <td>0.000066</td>\n",
              "      <td>0.1050</td>\n",
              "      <td>-8.193</td>\n",
              "      <td>0.0312</td>\n",
              "      <td>145.916</td>\n",
              "      <td>0.348</td>\n",
              "      <td>87</td>\n",
              "    </tr>\n",
              "    <tr>\n",
              "      <th>4</th>\n",
              "      <td>evermore</td>\n",
              "      <td>tolerate it</td>\n",
              "      <td>0.87800</td>\n",
              "      <td>0.316</td>\n",
              "      <td>0.361</td>\n",
              "      <td>0.000027</td>\n",
              "      <td>0.0797</td>\n",
              "      <td>-10.381</td>\n",
              "      <td>0.0488</td>\n",
              "      <td>74.952</td>\n",
              "      <td>0.221</td>\n",
              "      <td>86</td>\n",
              "    </tr>\n",
              "    <tr>\n",
              "      <th>...</th>\n",
              "      <td>...</td>\n",
              "      <td>...</td>\n",
              "      <td>...</td>\n",
              "      <td>...</td>\n",
              "      <td>...</td>\n",
              "      <td>...</td>\n",
              "      <td>...</td>\n",
              "      <td>...</td>\n",
              "      <td>...</td>\n",
              "      <td>...</td>\n",
              "      <td>...</td>\n",
              "      <td>...</td>\n",
              "    </tr>\n",
              "    <tr>\n",
              "      <th>79</th>\n",
              "      <td>Red</td>\n",
              "      <td>Treacherous</td>\n",
              "      <td>0.10100</td>\n",
              "      <td>0.704</td>\n",
              "      <td>0.621</td>\n",
              "      <td>0.000004</td>\n",
              "      <td>0.1400</td>\n",
              "      <td>-8.086</td>\n",
              "      <td>0.0334</td>\n",
              "      <td>109.995</td>\n",
              "      <td>0.395</td>\n",
              "      <td>39</td>\n",
              "    </tr>\n",
              "    <tr>\n",
              "      <th>80</th>\n",
              "      <td>Red</td>\n",
              "      <td>I Knew You Were Trouble.</td>\n",
              "      <td>0.00476</td>\n",
              "      <td>0.536</td>\n",
              "      <td>0.464</td>\n",
              "      <td>0.000003</td>\n",
              "      <td>0.0357</td>\n",
              "      <td>-6.761</td>\n",
              "      <td>0.0412</td>\n",
              "      <td>77.318</td>\n",
              "      <td>0.665</td>\n",
              "      <td>48</td>\n",
              "    </tr>\n",
              "    <tr>\n",
              "      <th>81</th>\n",
              "      <td>Red</td>\n",
              "      <td>All Too Well</td>\n",
              "      <td>0.04480</td>\n",
              "      <td>0.602</td>\n",
              "      <td>0.605</td>\n",
              "      <td>0.000334</td>\n",
              "      <td>0.1280</td>\n",
              "      <td>-7.803</td>\n",
              "      <td>0.0244</td>\n",
              "      <td>93.061</td>\n",
              "      <td>0.316</td>\n",
              "      <td>48</td>\n",
              "    </tr>\n",
              "    <tr>\n",
              "      <th>82</th>\n",
              "      <td>Red</td>\n",
              "      <td>22</td>\n",
              "      <td>0.00254</td>\n",
              "      <td>0.660</td>\n",
              "      <td>0.733</td>\n",
              "      <td>0.001460</td>\n",
              "      <td>0.0473</td>\n",
              "      <td>-6.564</td>\n",
              "      <td>0.0379</td>\n",
              "      <td>104.009</td>\n",
              "      <td>0.680</td>\n",
              "      <td>47</td>\n",
              "    </tr>\n",
              "    <tr>\n",
              "      <th>83</th>\n",
              "      <td>Red</td>\n",
              "      <td>Begin Again</td>\n",
              "      <td>0.19900</td>\n",
              "      <td>0.530</td>\n",
              "      <td>0.526</td>\n",
              "      <td>0.000004</td>\n",
              "      <td>0.1400</td>\n",
              "      <td>-8.349</td>\n",
              "      <td>0.0263</td>\n",
              "      <td>79.025</td>\n",
              "      <td>0.323</td>\n",
              "      <td>40</td>\n",
              "    </tr>\n",
              "  </tbody>\n",
              "</table>\n",
              "<p>84 rows × 12 columns</p>\n",
              "</div>"
            ],
            "text/plain": [
              "       album                      song  ...  valence  popularity\n",
              "0   evermore                    willow  ...    0.529          92\n",
              "1   evermore        champagne problems  ...    0.320          89\n",
              "2   evermore                 gold rush  ...    0.353          87\n",
              "3   evermore    â€˜tis the damn season  ...    0.348          87\n",
              "4   evermore               tolerate it  ...    0.221          86\n",
              "..       ...                       ...  ...      ...         ...\n",
              "79       Red               Treacherous  ...    0.395          39\n",
              "80       Red  I Knew You Were Trouble.  ...    0.665          48\n",
              "81       Red              All Too Well  ...    0.316          48\n",
              "82       Red                        22  ...    0.680          47\n",
              "83       Red               Begin Again  ...    0.323          40\n",
              "\n",
              "[84 rows x 12 columns]"
            ]
          },
          "metadata": {
            "tags": []
          },
          "execution_count": 4
        }
      ]
    },
    {
      "cell_type": "code",
      "metadata": {
        "id": "XnTtjD-JRIOL"
      },
      "source": [
        "emo_df.rename(columns={'song-title':'song'} ,inplace=True)"
      ],
      "execution_count": 5,
      "outputs": []
    },
    {
      "cell_type": "code",
      "metadata": {
        "id": "fr6d9mq9SP3E"
      },
      "source": [
        "song_df=pd.merge(emo_df,audio_df,on='song')"
      ],
      "execution_count": 6,
      "outputs": []
    },
    {
      "cell_type": "code",
      "metadata": {
        "id": "_dEmrFRySyiF"
      },
      "source": [
        "song_df.dropna(axis=1 , inplace=True)"
      ],
      "execution_count": 7,
      "outputs": []
    },
    {
      "cell_type": "code",
      "metadata": {
        "colab": {
          "base_uri": "https://localhost:8080/"
        },
        "id": "_n6KRZReTUBi",
        "outputId": "5b2f6ff7-0c29-4bac-8922-3228a2547ee9"
      },
      "source": [
        "cols=song_df.columns\r\n",
        "print(cols)"
      ],
      "execution_count": 8,
      "outputs": [
        {
          "output_type": "stream",
          "text": [
            "Index(['Unnamed: 0', 'Unnamed: 0.1', 'song', 'lyrics', 'Positive', 'Negative',\n",
            "       'Anger', 'Anticipation', 'Disgust', 'Fear', 'Joy', 'Sadness',\n",
            "       'Surprise', 'Trust', 'album', 'acousticness', 'danceability', 'energy',\n",
            "       'instrumentalness', 'liveness', 'loudness', 'speechiness', 'tempo',\n",
            "       'valence', 'popularity'],\n",
            "      dtype='object')\n"
          ],
          "name": "stdout"
        }
      ]
    },
    {
      "cell_type": "code",
      "metadata": {
        "id": "Q1XgfmniUskk"
      },
      "source": [
        "del song_df['Unnamed: 0']\r\n",
        "del song_df['Unnamed: 0.1']\r\n",
        "del song_df['lyrics']\r\n",
        "del song_df['instrumentalness']\r\n"
      ],
      "execution_count": 9,
      "outputs": []
    },
    {
      "cell_type": "code",
      "metadata": {
        "colab": {
          "base_uri": "https://localhost:8080/"
        },
        "id": "prZ2yWcrWGlO",
        "outputId": "d1501270-9011-4cbd-b285-065d336908a1"
      },
      "source": [
        "song_df.info()"
      ],
      "execution_count": 10,
      "outputs": [
        {
          "output_type": "stream",
          "text": [
            "<class 'pandas.core.frame.DataFrame'>\n",
            "Int64Index: 64 entries, 0 to 63\n",
            "Data columns (total 21 columns):\n",
            " #   Column        Non-Null Count  Dtype  \n",
            "---  ------        --------------  -----  \n",
            " 0   song          64 non-null     object \n",
            " 1   Positive      64 non-null     int64  \n",
            " 2   Negative      64 non-null     int64  \n",
            " 3   Anger         64 non-null     int64  \n",
            " 4   Anticipation  64 non-null     int64  \n",
            " 5   Disgust       64 non-null     int64  \n",
            " 6   Fear          64 non-null     int64  \n",
            " 7   Joy           64 non-null     int64  \n",
            " 8   Sadness       64 non-null     int64  \n",
            " 9   Surprise      64 non-null     int64  \n",
            " 10  Trust         64 non-null     int64  \n",
            " 11  album         64 non-null     object \n",
            " 12  acousticness  64 non-null     float64\n",
            " 13  danceability  64 non-null     float64\n",
            " 14  energy        64 non-null     float64\n",
            " 15  liveness      64 non-null     float64\n",
            " 16  loudness      64 non-null     float64\n",
            " 17  speechiness   64 non-null     float64\n",
            " 18  tempo         64 non-null     float64\n",
            " 19  valence       64 non-null     float64\n",
            " 20  popularity    64 non-null     int64  \n",
            "dtypes: float64(8), int64(11), object(2)\n",
            "memory usage: 11.0+ KB\n"
          ],
          "name": "stdout"
        }
      ]
    },
    {
      "cell_type": "code",
      "metadata": {
        "id": "LniT_HxqWezO"
      },
      "source": [
        "song_df.to_csv('song_df.csv')"
      ],
      "execution_count": 11,
      "outputs": []
    }
  ]
}