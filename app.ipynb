{
  "nbformat": 4,
  "nbformat_minor": 0,
  "metadata": {
    "colab": {
      "name": "app.ipynb",
      "provenance": [],
      "collapsed_sections": [],
      "authorship_tag": "ABX9TyNxwf6Y4+hH2dtr6X/zlUfO",
      "include_colab_link": true
    },
    "kernelspec": {
      "name": "python3",
      "display_name": "Python 3"
    }
  },
  "cells": [
    {
      "cell_type": "markdown",
      "metadata": {
        "id": "view-in-github",
        "colab_type": "text"
      },
      "source": [
        "<a href=\"https://colab.research.google.com/github/Gail529/Taylor/blob/main/app.ipynb\" target=\"_parent\"><img src=\"https://colab.research.google.com/assets/colab-badge.svg\" alt=\"Open In Colab\"/></a>"
      ]
    },
    {
      "cell_type": "code",
      "metadata": {
        "id": "t9JJ4rpCYfBY"
      },
      "source": [
        "import pandas as pd\r\n",
        "import numpy as np\r\n",
        "import seaborn as sns\r\n"
      ],
      "execution_count": 4,
      "outputs": []
    },
    {
      "cell_type": "code",
      "metadata": {
        "id": "JXspWPGiN3my"
      },
      "source": [
        "!pip install streamlit\r\n",
        "!pip install pyngrok==4.1.1\r\n",
        "!pip install ngrok"
      ],
      "execution_count": null,
      "outputs": []
    },
    {
      "cell_type": "code",
      "metadata": {
        "colab": {
          "base_uri": "https://localhost:8080/",
          "height": 251
        },
        "id": "hrxOJWe6YLmI",
        "outputId": "c2e20c94-1b40-4217-e840-c56894fc35ce"
      },
      "source": [
        "df=pd.read_csv('/content/song_df.csv')\r\n",
        "df.head()"
      ],
      "execution_count": 6,
      "outputs": [
        {
          "output_type": "execute_result",
          "data": {
            "text/html": [
              "<div>\n",
              "<style scoped>\n",
              "    .dataframe tbody tr th:only-of-type {\n",
              "        vertical-align: middle;\n",
              "    }\n",
              "\n",
              "    .dataframe tbody tr th {\n",
              "        vertical-align: top;\n",
              "    }\n",
              "\n",
              "    .dataframe thead th {\n",
              "        text-align: right;\n",
              "    }\n",
              "</style>\n",
              "<table border=\"1\" class=\"dataframe\">\n",
              "  <thead>\n",
              "    <tr style=\"text-align: right;\">\n",
              "      <th></th>\n",
              "      <th>Unnamed: 0</th>\n",
              "      <th>song</th>\n",
              "      <th>Positive</th>\n",
              "      <th>Negative</th>\n",
              "      <th>Anger</th>\n",
              "      <th>Anticipation</th>\n",
              "      <th>Disgust</th>\n",
              "      <th>Fear</th>\n",
              "      <th>Joy</th>\n",
              "      <th>Sadness</th>\n",
              "      <th>Surprise</th>\n",
              "      <th>Trust</th>\n",
              "      <th>acousticness</th>\n",
              "      <th>danceability</th>\n",
              "      <th>energy</th>\n",
              "      <th>liveness</th>\n",
              "      <th>loudness</th>\n",
              "      <th>speechiness</th>\n",
              "      <th>tempo</th>\n",
              "      <th>valence</th>\n",
              "      <th>popularity</th>\n",
              "    </tr>\n",
              "  </thead>\n",
              "  <tbody>\n",
              "    <tr>\n",
              "      <th>0</th>\n",
              "      <td>0</td>\n",
              "      <td>Red</td>\n",
              "      <td>14</td>\n",
              "      <td>12</td>\n",
              "      <td>6</td>\n",
              "      <td>2</td>\n",
              "      <td>2</td>\n",
              "      <td>7</td>\n",
              "      <td>11</td>\n",
              "      <td>17</td>\n",
              "      <td>2</td>\n",
              "      <td>10</td>\n",
              "      <td>0.0779</td>\n",
              "      <td>0.605</td>\n",
              "      <td>0.899</td>\n",
              "      <td>0.0911</td>\n",
              "      <td>-4.273</td>\n",
              "      <td>0.0423</td>\n",
              "      <td>124.985</td>\n",
              "      <td>0.647</td>\n",
              "      <td>46</td>\n",
              "    </tr>\n",
              "    <tr>\n",
              "      <th>1</th>\n",
              "      <td>1</td>\n",
              "      <td>Treacherous</td>\n",
              "      <td>11</td>\n",
              "      <td>10</td>\n",
              "      <td>10</td>\n",
              "      <td>5</td>\n",
              "      <td>7</td>\n",
              "      <td>10</td>\n",
              "      <td>4</td>\n",
              "      <td>0</td>\n",
              "      <td>2</td>\n",
              "      <td>4</td>\n",
              "      <td>0.1010</td>\n",
              "      <td>0.704</td>\n",
              "      <td>0.621</td>\n",
              "      <td>0.1400</td>\n",
              "      <td>-8.086</td>\n",
              "      <td>0.0334</td>\n",
              "      <td>109.995</td>\n",
              "      <td>0.395</td>\n",
              "      <td>39</td>\n",
              "    </tr>\n",
              "    <tr>\n",
              "      <th>2</th>\n",
              "      <td>2</td>\n",
              "      <td>All Too Well</td>\n",
              "      <td>8</td>\n",
              "      <td>15</td>\n",
              "      <td>8</td>\n",
              "      <td>7</td>\n",
              "      <td>4</td>\n",
              "      <td>3</td>\n",
              "      <td>6</td>\n",
              "      <td>8</td>\n",
              "      <td>3</td>\n",
              "      <td>8</td>\n",
              "      <td>0.0448</td>\n",
              "      <td>0.602</td>\n",
              "      <td>0.605</td>\n",
              "      <td>0.1280</td>\n",
              "      <td>-7.803</td>\n",
              "      <td>0.0244</td>\n",
              "      <td>93.061</td>\n",
              "      <td>0.316</td>\n",
              "      <td>48</td>\n",
              "    </tr>\n",
              "    <tr>\n",
              "      <th>3</th>\n",
              "      <td>3</td>\n",
              "      <td>Begin Again</td>\n",
              "      <td>9</td>\n",
              "      <td>3</td>\n",
              "      <td>0</td>\n",
              "      <td>7</td>\n",
              "      <td>0</td>\n",
              "      <td>1</td>\n",
              "      <td>6</td>\n",
              "      <td>1</td>\n",
              "      <td>3</td>\n",
              "      <td>0</td>\n",
              "      <td>0.1990</td>\n",
              "      <td>0.530</td>\n",
              "      <td>0.526</td>\n",
              "      <td>0.1400</td>\n",
              "      <td>-8.349</td>\n",
              "      <td>0.0263</td>\n",
              "      <td>79.025</td>\n",
              "      <td>0.323</td>\n",
              "      <td>40</td>\n",
              "    </tr>\n",
              "    <tr>\n",
              "      <th>4</th>\n",
              "      <td>4</td>\n",
              "      <td>Welcome To New York</td>\n",
              "      <td>8</td>\n",
              "      <td>9</td>\n",
              "      <td>2</td>\n",
              "      <td>1</td>\n",
              "      <td>2</td>\n",
              "      <td>3</td>\n",
              "      <td>7</td>\n",
              "      <td>2</td>\n",
              "      <td>0</td>\n",
              "      <td>5</td>\n",
              "      <td>0.0380</td>\n",
              "      <td>0.793</td>\n",
              "      <td>0.634</td>\n",
              "      <td>0.3040</td>\n",
              "      <td>-4.807</td>\n",
              "      <td>0.0324</td>\n",
              "      <td>117.023</td>\n",
              "      <td>0.615</td>\n",
              "      <td>62</td>\n",
              "    </tr>\n",
              "  </tbody>\n",
              "</table>\n",
              "</div>"
            ],
            "text/plain": [
              "   Unnamed: 0                 song  Positive  ...    tempo  valence  popularity\n",
              "0           0                  Red        14  ...  124.985    0.647          46\n",
              "1           1          Treacherous        11  ...  109.995    0.395          39\n",
              "2           2         All Too Well         8  ...   93.061    0.316          48\n",
              "3           3          Begin Again         9  ...   79.025    0.323          40\n",
              "4           4  Welcome To New York         8  ...  117.023    0.615          62\n",
              "\n",
              "[5 rows x 21 columns]"
            ]
          },
          "metadata": {
            "tags": []
          },
          "execution_count": 6
        }
      ]
    },
    {
      "cell_type": "code",
      "metadata": {
        "colab": {
          "base_uri": "https://localhost:8080/"
        },
        "id": "RYnRVs3oNc1M",
        "outputId": "7a2af424-7de1-49b3-89c5-37a8b3343852"
      },
      "source": [
        "%%writefile app.py\r\n",
        "import streamlit as st\r\n",
        "import pandas as pd\r\n",
        "import numpy as np\r\n",
        "import seaborn as sns\r\n",
        "from PIL import Image\r\n",
        "from sklearn.metrics.pairwise import cosine_similarity\r\n",
        "PAGE_CONFIG = {\"page_title\":\"Taylor\",\"page_icon\":\":smiley:\",\"layout\":\"centered\"}\r\n",
        "st.set_page_config(**PAGE_CONFIG)\r\n",
        "\r\n",
        "\r\n",
        "image = Image.open('tay_img.jpg')\r\n",
        "\r\n",
        "df=pd.read_csv('/content/song_df.csv')\r\n",
        "song_df=df.filter(['song'])\r\n",
        "\r\n",
        "#calculating the similarities scores\r\n",
        "cols=song_df.columns\r\n",
        "scores_df=df[['Positive','Negative','Anger','Anticipation','Disgust','Fear','Joy','Sadness','Surprise','Trust','acousticness','danceability','energy','liveness','loudness','speechiness','tempo','valence','popularity']]\r\n",
        "cosine_sim=cosine_similarity(scores_df,scores_df)\r\n",
        "indices=pd.Series(song_df.index, song_df['song']).drop_duplicates()\r\n",
        "\r\n",
        "#function that will generate the recommendations\r\n",
        "def get_recommendations(title,cosine_sim=cosine_sim):   \r\n",
        "    index=indices[title]\r\n",
        "    sim_scores = list(enumerate(cosine_sim[index]))\r\n",
        "    sim_scores = sorted(sim_scores, key=lambda x: x[1], reverse=True)\r\n",
        "    sim_scores = sim_scores[1:11]\r\n",
        "    song_indices = [i[0] for i in sim_scores]\r\n",
        "    return song_df['song'].iloc[song_indices]\r\n",
        "\r\n",
        "\r\n",
        "choice = st.sidebar.text_input('Pick /key in  a Song')\r\n",
        "st.sidebar.write(\"Suggestions\")\r\n",
        "st.sidebar.dataframe(song_df,300,400)\r\n",
        "\r\n",
        "\r\n",
        "\r\n",
        "st.image(image,width=400)\r\n",
        "st.title(\"A Recommendation Engine for Taylor's songs\")\r\n",
        "if choice:\r\n",
        "    recommendations=get_recommendations(choice)\r\n",
        "    st.dataframe(recommendations,500,500)\r\n",
        "\r\n",
        "\r\n",
        "    \r\n",
        "\t"
      ],
      "execution_count": 35,
      "outputs": [
        {
          "output_type": "stream",
          "text": [
            "Overwriting app.py\n"
          ],
          "name": "stdout"
        }
      ]
    },
    {
      "cell_type": "code",
      "metadata": {
        "colab": {
          "base_uri": "https://localhost:8080/"
        },
        "id": "8zsxwraaSQ5p",
        "outputId": "b5a07494-fef2-4672-aff8-54a028e22d9b"
      },
      "source": [
        "! ngrok authtoken 1n3n9zfRI524JaNlhCuS3GHARgM_7Z465eCAfxd5tsaavs7Tj\r\n"
      ],
      "execution_count": 7,
      "outputs": [
        {
          "output_type": "stream",
          "text": [
            "Authtoken saved to configuration file: /root/.ngrok2/ngrok.yml\n"
          ],
          "name": "stdout"
        }
      ]
    },
    {
      "cell_type": "code",
      "metadata": {
        "colab": {
          "base_uri": "https://localhost:8080/"
        },
        "id": "m5z-9lW1S73b",
        "outputId": "6d3d4eec-f11b-47a4-e7df-503c09ee3c5b"
      },
      "source": [
        "! ngrok"
      ],
      "execution_count": 8,
      "outputs": [
        {
          "output_type": "stream",
          "text": [
            "NAME:\n",
            "   ngrok - tunnel local ports to public URLs and inspect traffic\n",
            "\n",
            "DESCRIPTION:\n",
            "    ngrok exposes local networked services behinds NATs and firewalls to the\n",
            "    public internet over a secure tunnel. Share local websites, build/test\n",
            "    webhook consumers and self-host personal services.\n",
            "    Detailed help for each command is available with 'ngrok help <command>'.\n",
            "    Open http://localhost:4040 for ngrok's web interface to inspect traffic.\n",
            "\n",
            "EXAMPLES:\n",
            "    ngrok http 80                    # secure public URL for port 80 web server\n",
            "    ngrok http -subdomain=baz 8080   # port 8080 available at baz.ngrok.io\n",
            "    ngrok http foo.dev:80            # tunnel to host:port instead of localhost\n",
            "    ngrok http https://localhost     # expose a local https server\n",
            "    ngrok tcp 22                     # tunnel arbitrary TCP traffic to port 22\n",
            "    ngrok tls -hostname=foo.com 443  # TLS traffic for foo.com to port 443\n",
            "    ngrok start foo bar baz          # start tunnels from the configuration file\n",
            "\n",
            "VERSION:\n",
            "   2.3.35\n",
            "\n",
            "AUTHOR:\n",
            "  inconshreveable - <alan@ngrok.com>\n",
            "\n",
            "COMMANDS:\n",
            "   authtoken\tsave authtoken to configuration file\n",
            "   credits\tprints author and licensing information\n",
            "   http\t\tstart an HTTP tunnel\n",
            "   start\tstart tunnels by name from the configuration file\n",
            "   tcp\t\tstart a TCP tunnel\n",
            "   tls\t\tstart a TLS tunnel\n",
            "   update\tupdate ngrok to the latest version\n",
            "   version\tprint the version string\n",
            "   help\t\tShows a list of commands or help for one command\n",
            "\n",
            "PYNGROK VERSION:\n",
            "   4.1.1\n"
          ],
          "name": "stdout"
        }
      ]
    },
    {
      "cell_type": "code",
      "metadata": {
        "id": "ACFpoGB0O0sc"
      },
      "source": [
        "!streamlit run app.py &>/dev/null&"
      ],
      "execution_count": 10,
      "outputs": []
    },
    {
      "cell_type": "code",
      "metadata": {
        "colab": {
          "base_uri": "https://localhost:8080/",
          "height": 35
        },
        "id": "v9A07GWaPGRQ",
        "outputId": "bd6a61e9-33ba-4af1-f778-c86c46ae5e19"
      },
      "source": [
        "from pyngrok import ngrok\r\n",
        "# Setup a tunnel to the streamlit port 8501\r\n",
        "public_url = ngrok.connect(port='8501')\r\n",
        "public_url\r\n"
      ],
      "execution_count": 11,
      "outputs": [
        {
          "output_type": "execute_result",
          "data": {
            "application/vnd.google.colaboratory.intrinsic+json": {
              "type": "string"
            },
            "text/plain": [
              "'http://be8e9e6a7a4a.ngrok.io'"
            ]
          },
          "metadata": {
            "tags": []
          },
          "execution_count": 11
        }
      ]
    },
    {
      "cell_type": "code",
      "metadata": {
        "id": "fkATZxpaSPuR",
        "colab": {
          "base_uri": "https://localhost:8080/"
        },
        "outputId": "4df5cb92-6657-4da4-c6e8-38d45f874db2"
      },
      "source": [
        "!pgrep streamlit\r\n"
      ],
      "execution_count": null,
      "outputs": [
        {
          "output_type": "stream",
          "text": [
            "138\n",
            "204\n",
            "461\n",
            "494\n"
          ],
          "name": "stdout"
        }
      ]
    },
    {
      "cell_type": "code",
      "metadata": {
        "id": "QBMrajDqvsPx"
      },
      "source": [
        "!kill 494\r\n"
      ],
      "execution_count": null,
      "outputs": []
    },
    {
      "cell_type": "code",
      "metadata": {
        "colab": {
          "base_uri": "https://localhost:8080/"
        },
        "id": "hFHys110v7Em",
        "outputId": "76a68087-04a9-4d0f-87ed-0f8d2c9b87c8"
      },
      "source": [
        "!ngrok.kill()"
      ],
      "execution_count": null,
      "outputs": [
        {
          "output_type": "stream",
          "text": [
            "/bin/bash: -c: line 1: syntax error: unexpected end of file\n"
          ],
          "name": "stdout"
        }
      ]
    }
  ]
}